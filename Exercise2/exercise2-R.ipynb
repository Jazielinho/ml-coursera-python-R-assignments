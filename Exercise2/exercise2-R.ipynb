{
 "cells": [
  {
   "cell_type": "markdown",
   "metadata": {},
   "source": [
    "# Programming Exercise 2: Logistic Regression\n",
    "\n",
    "## Introduction\n",
    "\n",
    "In this exercise, you will implement logistic regression and apply it to two different datasets. Before starting on the programming exercise, we strongly recommend watching the video lectures and completing the review questions for the associated topics.\n",
    "\n",
    "All the information you need for solving this assignment is in this notebook, and all the code you will be implementing will take place within this notebook. The assignment can be promptly submitted to the coursera grader directly from this notebook (code and instructions are included below).\n",
    "\n",
    "Before we begin with the exercises, we need to import all libraries required for this programming exercise. Throughout the course, we will be using [`numpy`](http://www.numpy.org/) for all arrays and matrix operations, and [`matplotlib`](https://matplotlib.org/) for plotting. In this assignment, we will also use [`scipy`](https://docs.scipy.org/doc/scipy/reference/), which contains scientific and numerical computation functions and tools. \n",
    "\n",
    "You can find instructions on how to install required libraries in the README file in the [github repository](https://github.com/dibgerge/ml-coursera-python-assignments)."
   ]
  },
  {
   "cell_type": "markdown",
   "metadata": {},
   "source": [
    "## Submission and Grading\n",
    "\n",
    "\n",
    "After completing each part of the assignment, be sure to submit your solutions to the grader. The following is a breakdown of how each part of this exercise is scored.\n",
    "\n",
    "\n",
    "| Section | Part                                 | Submission function   | Points \n",
    "| :-      |:-                                    | :-                    | :-:\n",
    "| 1       | [Sigmoid Function](#section1)                   | [`sigmoid`](#sigmoid) | 5      \n",
    "| 2       | [Compute cost for logistic regression](#section2) | [`costFunction`](#costFunction) | 30     \n",
    "| 3       | [Gradient for logistic regression](#section2)     | [`costFunction`](#costFunction) | 30     \n",
    "| 4       | [Predict Function](#section4)                     | [`predict`](#predict) | 5      \n",
    "| 5       | [Compute cost for regularized LR](#section5)      | [`costFunctionReg`](#costFunctionReg) | 15     \n",
    "| 6       | [Gradient for regularized LR](#section5)          | [`costFunctionReg`](#costFunctionReg) | 15     \n",
    "|         | Total Points                         | | 100    \n",
    "\n",
    "\n",
    "\n",
    "You are allowed to submit your solutions multiple times, and we will take only the highest score into consideration.\n",
    "\n",
    "<div class=\"alert alert-block alert-warning\">\n",
    "At the end of each section in this notebook, we have a cell which contains code for submitting the solutions thus far to the grader. Execute the cell to see your score up to the current section. For all your work to be submitted properly, you must execute those cells at least once. They must also be re-executed everytime the submitted function is updated.\n",
    "</div>\n"
   ]
  },
  {
   "cell_type": "markdown",
   "metadata": {},
   "source": [
    "## 1 Logistic Regression\n",
    "\n",
    "In this part of the exercise, you will build a logistic regression model to predict whether a student gets admitted into a university. Suppose that you are the administrator of a university department and\n",
    "you want to determine each applicant’s chance of admission based on their results on two exams. You have historical data from previous applicants that you can use as a training set for logistic regression. For each training example, you have the applicant’s scores on two exams and the admissions\n",
    "decision. Your task is to build a classification model that estimates an applicant’s probability of admission based the scores from those two exams. \n",
    "\n",
    "The following cell will load the data and corresponding labels:"
   ]
  },
  {
   "cell_type": "code",
   "execution_count": 1,
   "metadata": {},
   "outputs": [],
   "source": [
    "data = read.csv('Data/ex2data1.txt', header = FALSE)\n",
    "X = as.matrix(data[,1:2])\n",
    "y = as.numeric(data[,3])"
   ]
  },
  {
   "cell_type": "markdown",
   "metadata": {},
   "source": [
    "### 1.1 Visualizing the data\n",
    "\n",
    "Before starting to implement any learning algorithm, it is always good to visualize the data if possible. We  display the data on a 2-dimensional plot by calling the function `plotData`. You will now complete the code in `plotData` so that it displays a figure where the axes are the two exam scores, and the positive and negative examples are shown with different markers.\n",
    "\n",
    "To help you get more familiar with plotting, we have left `plotData` empty so you can try to implement it yourself. However, this is an optional (ungraded) exercise. We also provide our implementation below so you can\n",
    "copy it or refer to it. If you choose to copy our example, make sure you learn\n",
    "what each of its commands is doing by consulting the `matplotlib` and `numpy` documentation.\n",
    "\n",
    "```python\n",
    "# Find Indices of Positive and Negative Examples\n",
    "pos = y == 1\n",
    "neg = y == 0\n",
    "\n",
    "# Plot Examples\n",
    "pyplot.plot(X[pos, 0], X[pos, 1], 'k*', lw=2, ms=10)\n",
    "pyplot.plot(X[neg, 0], X[neg, 1], 'ko', mfc='y', ms=8, mec='k', mew=1)\n",
    "```"
   ]
  },
  {
   "cell_type": "code",
   "execution_count": 2,
   "metadata": {},
   "outputs": [],
   "source": [
    "plotData <- function(X, y, ...){\n",
    "    plot(X, bg = as.factor(y), pch = 21, ...)\n",
    "}\n"
   ]
  },
  {
   "cell_type": "markdown",
   "metadata": {},
   "source": [
    "Now, we call the implemented function to display the loaded data:"
   ]
  },
  {
   "cell_type": "code",
   "execution_count": 3,
   "metadata": {
    "scrolled": false
   },
   "outputs": [
    {
     "data": {
      "image/png": "[encoded data removed]",
      "text/plain": [
       "plot without title"
      ]
     },
     "metadata": {},
     "output_type": "display_data"
    }
   ],
   "source": [
    "plotData(X, y)"
   ]
  },
  {
   "cell_type": "markdown",
   "metadata": {},
   "source": [
    "<a id=\"section1\"></a>\n",
    "### 1.2 Implementation\n",
    "\n",
    "#### 1.2.1 Warmup exercise: sigmoid function\n",
    "\n",
    "Before you start with the actual cost function, recall that the logistic regression hypothesis is defined as:\n",
    "\n",
    "$$ h_\\theta(x) = g(\\theta^T x)$$\n",
    "\n",
    "where function $g$ is the sigmoid function. The sigmoid function is defined as: \n",
    "\n",
    "$$g(z) = \\frac{1}{1+e^{-z}}$$.\n",
    "\n",
    "Your first step is to implement this function `sigmoid` so it can be\n",
    "called by the rest of your program. When you are finished, try testing a few\n",
    "values by calling `sigmoid(x)` in a new cell. For large positive values of `x`, the sigmoid should be close to 1, while for large negative values, the sigmoid should be close to 0. Evaluating `sigmoid(0)` should give you exactly 0.5. Your code should also work with vectors and matrices. **For a matrix, your function should perform the sigmoid function on every element.**\n",
    "<a id=\"sigmoid\"></a>"
   ]
  },
  {
   "cell_type": "code",
   "execution_count": 4,
   "metadata": {},
   "outputs": [],
   "source": [
    "sigmoid <- function(z){\n",
    "    return(1 / (1 + exp(-1 * z)))\n",
    "}"
   ]
  },
  {
   "cell_type": "markdown",
   "metadata": {},
   "source": [
    "The following cell evaluates the sigmoid function at `z=0`. You should get a value of 0.5. You can also try different values for `z` to experiment with the sigmoid function."
   ]
  },
  {
   "cell_type": "code",
   "execution_count": 5,
   "metadata": {},
   "outputs": [
    {
     "name": "stdout",
     "output_type": "stream",
     "text": [
      "[1] 0.5\n"
     ]
    }
   ],
   "source": [
    "z <- 0\n",
    "g <- sigmoid(z)\n",
    "print(g)"
   ]
  },
  {
   "cell_type": "markdown",
   "metadata": {},
   "source": [
    "After completing a part of the exercise, you can submit your solutions for grading by first adding the function you modified to the submission object, and then sending your function to Coursera for grading. \n",
    "\n",
    "The submission script will prompt you for your login e-mail and submission token. You can obtain a submission token from the web page for the assignment. You are allowed to submit your solutions multiple times, and we will take only the highest score into consideration.\n",
    "\n",
    "Execute the following cell to grade your solution to the first part of this exercise.\n",
    "\n",
    "*You should now submit your solutions.*"
   ]
  },
  {
   "cell_type": "markdown",
   "metadata": {},
   "source": [
    "<a id=\"section2\"></a>\n",
    "#### 1.2.2 Cost function and gradient\n",
    "\n",
    "Now you will implement the cost function and gradient for logistic regression. Before proceeding we add the intercept term to X. "
   ]
  },
  {
   "cell_type": "code",
   "execution_count": 6,
   "metadata": {},
   "outputs": [],
   "source": [
    "m <- nrow(X)\n",
    "n <- ncol(X)\n",
    "\n",
    "X_plot <- X\n",
    "X <- cbind(1, X_plot)"
   ]
  },
  {
   "cell_type": "markdown",
   "metadata": {},
   "source": [
    "Now, complete the code for the function `costFunction` to return the cost and gradient. Recall that the cost function in logistic regression is\n",
    "\n",
    "$$ J(\\theta) = \\frac{1}{m} \\sum_{i=1}^{m} \\left[ -y^{(i)} \\log\\left(h_\\theta\\left( x^{(i)} \\right) \\right) - \\left( 1 - y^{(i)}\\right) \\log \\left( 1 - h_\\theta\\left( x^{(i)} \\right) \\right) \\right]$$\n",
    "\n",
    "and the gradient of the cost is a vector of the same length as $\\theta$ where the $j^{th}$\n",
    "element (for $j = 0, 1, \\cdots , n$) is defined as follows:\n",
    "\n",
    "$$ \\frac{\\partial J(\\theta)}{\\partial \\theta_j} = \\frac{1}{m} \\sum_{i=1}^m \\left( h_\\theta \\left( x^{(i)} \\right) - y^{(i)} \\right) x_j^{(i)} $$\n",
    "\n",
    "Note that while this gradient looks identical to the linear regression gradient, the formula is actually different because linear and logistic regression have different definitions of $h_\\theta(x)$.\n",
    "<a id=\"costFunction\"></a>"
   ]
  },
  {
   "cell_type": "code",
   "execution_count": 7,
   "metadata": {},
   "outputs": [],
   "source": [
    "costFunction <- function(theta, X, y){\n",
    "    sig_x_dot_theta <- sigmoid(X %*% theta)\n",
    "    return((1 / length(y)) * ((-1) * crossprod(y, log(sig_x_dot_theta)) - crossprod(1 - y, log(1 - sig_x_dot_theta))))\n",
    "}\n",
    "gradFunction <- function(theta, X, y){\n",
    "    sig_x_dot_theta <- sigmoid(X %*% theta)\n",
    "    return((1 / length(y)) * (t(X) %*% (sig_x_dot_theta - y)))\n",
    "}"
   ]
  },
  {
   "cell_type": "markdown",
   "metadata": {},
   "source": [
    "Once you are done call your `costFunction` using two test cases for  $\\theta$ by executing the next cell."
   ]
  },
  {
   "cell_type": "code",
   "execution_count": 8,
   "metadata": {
    "scrolled": true
   },
   "outputs": [
    {
     "name": "stdout",
     "output_type": "stream",
     "text": [
      "          [,1]\n",
      "[1,] 0.6931472\n",
      "[1] 0.693\n",
      "        [,1]\n",
      "    -0.10000\n",
      "V1 -12.00922\n",
      "V2 -11.26284\n",
      "[1]  -0.1000 -12.0092 -11.2628\n",
      "          [,1]\n",
      "[1,] 0.2183302\n",
      "[1] 0.218\n",
      "         [,1]\n",
      "   0.04290299\n",
      "V1 2.56623412\n",
      "V2 2.64679737\n",
      "[1] 0.043 2.566 2.647\n"
     ]
    }
   ],
   "source": [
    "initial_theta <- rep(0, (n + 1))\n",
    "cost <- costFunction(initial_theta, X, y)\n",
    "grad <- gradFunction(initial_theta, X, y)\n",
    "print(cost)\n",
    "print(0.693)\n",
    "print(grad)\n",
    "print(c(-0.1000, -12.0092, -11.2628))\n",
    "\n",
    "test_theta = c(-24, 0.2, 0.2)\n",
    "cost <- costFunction(test_theta, X, y)\n",
    "grad <- gradFunction(test_theta, X, y)\n",
    "print(cost)\n",
    "print(0.218)\n",
    "print(grad)\n",
    "print(c(0.043, 2.566, 2.647))"
   ]
  },
  {
   "cell_type": "markdown",
   "metadata": {},
   "source": [
    "*You should now submit your solutions.*"
   ]
  },
  {
   "cell_type": "markdown",
   "metadata": {},
   "source": [
    "#### 1.2.3 Learning parameters using `scipy.optimize`\n",
    "\n",
    "In the previous assignment, you found the optimal parameters of a linear regression model by implementing gradient descent. You wrote a cost function and calculated its gradient, then took a gradient descent step accordingly. This time, instead of taking gradient descent steps, you will use the [`scipy.optimize` module](https://docs.scipy.org/doc/scipy/reference/optimize.html). SciPy is a numerical computing library for `python`. It provides an optimization module for root finding and minimization. As of `scipy 1.0`, the function `scipy.optimize.minimize` is the method to use for optimization problems(both constrained and unconstrained).\n",
    "\n",
    "For logistic regression, you want to optimize the cost function $J(\\theta)$ with parameters $\\theta$.\n",
    "Concretely, you are going to use `optimize.minimize` to find the best parameters $\\theta$ for the logistic regression cost function, given a fixed dataset (of X and y values). You will pass to `optimize.minimize` the following inputs:\n",
    "- `costFunction`: A cost function that, when given the training set and a particular $\\theta$, computes the logistic regression cost and gradient with respect to $\\theta$ for the dataset (X, y). It is important to note that we only pass the name of the function without the parenthesis. This indicates that we are only providing a reference to this function, and not evaluating the result from this function.\n",
    "- `initial_theta`: The initial values of the parameters we are trying to optimize.\n",
    "- `(X, y)`: These are additional arguments to the cost function.\n",
    "- `jac`: Indication if the cost function returns the Jacobian (gradient) along with cost value. (True)\n",
    "- `method`: Optimization method/algorithm to use\n",
    "- `options`: Additional options which might be specific to the specific optimization method. In the following, we only tell the algorithm the maximum number of iterations before it terminates.\n",
    "\n",
    "If you have completed the `costFunction` correctly, `optimize.minimize` will converge on the right optimization parameters and return the final values of the cost and $\\theta$ in a class object. Notice that by using `optimize.minimize`, you did not have to write any loops yourself, or set a learning rate like you did for gradient descent. This is all done by `optimize.minimize`: you only needed to provide a function calculating the cost and the gradient.\n",
    "\n",
    "In the following, we already have code written to call `optimize.minimize` with the correct arguments."
   ]
  },
  {
   "cell_type": "code",
   "execution_count": 9,
   "metadata": {},
   "outputs": [
    {
     "name": "stdout",
     "output_type": "stream",
     "text": [
      "[1] 0.2034977\n",
      "[1] 0.203\n",
      "[1] -25.1647048   0.2062524   0.2015046\n",
      "[1] -25.161   0.206   0.201\n"
     ]
    }
   ],
   "source": [
    "costFunction_X_y <- function(theta)costFunction(theta, X, y)\n",
    "gradFunction_X_y <- function(theta)gradFunction(theta, X, y)\n",
    "res <- optim(par = initial_theta,\n",
    "            fn = costFunction_X_y,\n",
    "            gr = gradFunction_X_y,\n",
    "            control = list(maxit = 400))\n",
    "theta <- res$par\n",
    "cost <- res$value\n",
    "print(cost)\n",
    "print(0.203)\n",
    "print(theta)\n",
    "print(c(-25.161, 0.206, 0.201))"
   ]
  },
  {
   "cell_type": "markdown",
   "metadata": {},
   "source": [
    "Once `optimize.minimize` completes, we want to use the final value for $\\theta$ to visualize the decision boundary on the training data as shown in the figure below. \n",
    "\n",
    "![](Figures/decision_boundary1.png)\n",
    "\n",
    "To do so, we have written a function `plotDecisionBoundary` for plotting the decision boundary on top of training data. You do not need to write any code for plotting the decision boundary, but we also encourage you to look at the code in `plotDecisionBoundary` to see how to plot such a boundary using the $\\theta$ values. You can find this function in the `utils.py` file which comes with this assignment."
   ]
  },
  {
   "cell_type": "code",
   "execution_count": 10,
   "metadata": {},
   "outputs": [],
   "source": [
    "plotDecisionBoundary <- function(theta, X, y, poly_level=1){\n",
    "    xnew <- cbind(rep(seq(min(X[,1]) - 0.5, max(X[,1]) + 0.5, length.out=100), 100),\n",
    "                  rep(seq(min(X[,2]) - 0.5, max(X[,2]) + 0.5, length.out=100), each=100))\n",
    "    prob <- sigmoid(cbind(1, as.matrix(poly(xnew, poly_level, raw=TRUE))) %*% theta)\n",
    "    prob15 <- matrix(prob, 100)\n",
    "    par(mar=rep(3, 4))\n",
    "    contour(unique(xnew[, 1]), unique(xnew[, 2]), prob15, levels=0.5, \n",
    "            labels=\"\", xlab='', ylab='', axes=FALSE, lwd=2.5, asp=1)\n",
    "    points(X, bg=ifelse(y==1, \"#CA002070\", \"#0571B070\"), pch=21, cex=2)\n",
    "    gd <- expand.grid(x=unique(xnew[, 1]), y=unique(xnew[, 2]))\n",
    "    points(gd, pch=20, cex=0.4, col=ifelse(prob > 0.5, \"#CA0020\", \"#0571B0\"))\n",
    "    box()\n",
    "}"
   ]
  },
  {
   "cell_type": "code",
   "execution_count": 11,
   "metadata": {},
   "outputs": [
    {
     "data": {
      "image/png": "[encoded data removed]",
      "text/plain": [
       "plot without title"
      ]
     },
     "metadata": {},
     "output_type": "display_data"
    }
   ],
   "source": [
    "plotDecisionBoundary(theta, X_plot, y, 1)"
   ]
  },
  {
   "cell_type": "markdown",
   "metadata": {},
   "source": [
    "<a id=\"section4\"></a>\n",
    "#### 1.2.4 Evaluating logistic regression\n",
    "\n",
    "After learning the parameters, you can use the model to predict whether a particular student will be admitted. For a student with an Exam 1 score of 45 and an Exam 2 score of 85, you should expect to see an admission\n",
    "probability of 0.776. Another way to evaluate the quality of the parameters we have found is to see how well the learned model predicts on our training set. In this part, your task is to complete the code in function `predict`. The predict function will produce “1” or “0” predictions given a dataset and a learned parameter vector $\\theta$. \n",
    "<a id=\"predict\"></a>"
   ]
  },
  {
   "cell_type": "code",
   "execution_count": 12,
   "metadata": {},
   "outputs": [],
   "source": [
    "predict <- function(theta, X){\n",
    "    return(as.numeric(sigmoid(X %*% theta) > 0.5))\n",
    "}"
   ]
  },
  {
   "cell_type": "markdown",
   "metadata": {},
   "source": [
    "After you have completed the code in `predict`, we proceed to report the training accuracy of your classifier by computing the percentage of examples it got correct."
   ]
  },
  {
   "cell_type": "code",
   "execution_count": 13,
   "metadata": {},
   "outputs": [
    {
     "name": "stdout",
     "output_type": "stream",
     "text": [
      "          [,1]\n",
      "[1,] 0.7763541\n",
      "[1] \"0.775 +/- 0.002\"\n",
      "[1] 89\n",
      "[1] \"89.00%\"\n"
     ]
    }
   ],
   "source": [
    "prob <- sigmoid(crossprod(c(1,45,85), theta))\n",
    "print(prob)\n",
    "print('0.775 +/- 0.002')\n",
    "\n",
    "p <- predict(theta, X)\n",
    "print(100 * mean(p == y))\n",
    "print('89.00%')"
   ]
  },
  {
   "cell_type": "markdown",
   "metadata": {},
   "source": [
    "*You should now submit your solutions.*"
   ]
  },
  {
   "cell_type": "markdown",
   "metadata": {},
   "source": [
    "## 2 Regularized logistic regression\n",
    "\n",
    "In this part of the exercise, you will implement regularized logistic regression to predict whether microchips from a fabrication plant passes quality assurance (QA). During QA, each microchip goes through various tests to ensure it is functioning correctly.\n",
    "Suppose you are the product manager of the factory and you have the test results for some microchips on two different tests. From these two tests, you would like to determine whether the microchips should be accepted or rejected. To help you make the decision, you have a dataset of test results on past microchips, from which you can build a logistic regression model.\n",
    "\n",
    "First, we load the data from a CSV file:"
   ]
  },
  {
   "cell_type": "code",
   "execution_count": 21,
   "metadata": {},
   "outputs": [],
   "source": [
    "data = read.csv('Data/ex2data2.txt', header = FALSE)\n",
    "X = as.matrix(data[,1:2])\n",
    "y = as.numeric(data[,3])"
   ]
  },
  {
   "cell_type": "markdown",
   "metadata": {},
   "source": [
    "### 2.1 Visualize the data\n",
    "\n",
    "Similar to the previous parts of this exercise, `plotData` is used to generate a figure, where the axes are the two test scores, and the positive (y = 1, accepted) and negative (y = 0, rejected) examples are shown with\n",
    "different markers."
   ]
  },
  {
   "cell_type": "code",
   "execution_count": 22,
   "metadata": {},
   "outputs": [
    {
     "data": {
      "image/png": "[encoded data removed]",
      "text/plain": [
       "plot without title"
      ]
     },
     "metadata": {},
     "output_type": "display_data"
    }
   ],
   "source": [
    "plotData(X, y)"
   ]
  },
  {
   "cell_type": "markdown",
   "metadata": {},
   "source": [
    "The above figure shows that our dataset cannot be separated into positive and negative examples by a straight-line through the plot. Therefore, a straight-forward application of logistic regression will not perform well on this dataset since logistic regression will only be able to find a linear decision boundary.\n",
    "\n",
    "### 2.2 Feature mapping\n",
    "\n",
    "One way to fit the data better is to create more features from each data point. In the function `mapFeature` defined in the file `utils.py`, we will map the features into all polynomial terms of $x_1$ and $x_2$ up to the sixth power.\n",
    "\n",
    "$$ \\text{mapFeature}(x) = \\begin{bmatrix} 1 & x_1 & x_2 & x_1^2 & x_1 x_2 & x_2^2 & x_1^3 & \\dots & x_1 x_2^5 & x_2^6 \\end{bmatrix}^T $$\n",
    "\n",
    "As a result of this mapping, our vector of two features (the scores on two QA tests) has been transformed into a 28-dimensional vector. A logistic regression classifier trained on this higher-dimension feature vector will have a more complex decision boundary and will appear nonlinear when drawn in our 2-dimensional plot.\n",
    "While the feature mapping allows us to build a more expressive classifier, it also more susceptible to overfitting. In the next parts of the exercise, you will implement regularized logistic regression to fit the data and also see for yourself how regularization can help combat the overfitting problem.\n"
   ]
  },
  {
   "cell_type": "code",
   "execution_count": 28,
   "metadata": {},
   "outputs": [
    {
     "ename": "ERROR",
     "evalue": "Error in rep.int(rep.int(seq_len(nx), rep.int(rep.fac, nx)), orep): valor de 'times' no válido\n",
     "output_type": "error",
     "traceback": [
      "Error in rep.int(rep.int(seq_len(nx), rep.int(rep.fac, nx)), orep): valor de 'times' no válido\nTraceback:\n",
      "1. cbind(1, as.matrix(poly(X_plot, 6, raw = TRUE)))",
      "2. as.matrix(poly(X_plot, 6, raw = TRUE))",
      "3. poly(X_plot, 6, raw = TRUE)",
      "4. do.call(polym, c(m, degree = degree, raw = raw, list(coefs = coefs)))",
      "5. (function (..., degree = 1, coefs = NULL, raw = FALSE) \n . {\n .     dots <- list(...)\n .     nd <- length(if (is.null(coefs)) dots else coefs)\n .     if (nd == 0) \n .         stop(\"must supply one or more vectors\")\n .     z <- do.call(expand.grid, c(rep.int(list(0:degree), nd), \n .         KEEP.OUT.ATTRS = FALSE))\n .     s <- rowSums(z)\n .     ind <- 0 < s & s <= degree\n .     z <- z[ind, , drop = FALSE]\n .     s <- s[ind]\n .     if (is.null(coefs)) {\n .         aPoly <- poly(dots[[1L]], degree, raw = raw, simple = raw && \n .             nd > 1)\n .         if (nd == 1) \n .             return(aPoly)\n .         n <- lengths(dots)\n .         if (any(n != n[1L])) \n .             stop(\"arguments must have the same length\")\n .         res <- cbind(1, aPoly)[, 1L + z[, 1], drop = FALSE]\n .         if (!raw) \n .             coefs <- list(attr(aPoly, \"coefs\"))\n .         for (i in 2:nd) {\n .             aPoly <- poly(dots[[i]], degree, raw = raw, simple = raw)\n .             res <- res * cbind(1, aPoly)[, 1L + z[, i], drop = FALSE]\n .             if (!raw) \n .                 coefs <- c(coefs, list(attr(aPoly, \"coefs\")))\n .         }\n .         colnames(res) <- apply(z, 1L, function(x) paste(x, collapse = \".\"))\n .         structure(res, degree = as.vector(s), coefs = if (!raw) \n .             coefs, class = c(\"poly\", \"matrix\"))\n .     }\n .     else {\n .         newdata <- as.data.frame(dots)\n .         if (nd != ncol(newdata)) \n .             stop(\"wrong number of columns in new data: \", deparse(substitute(...)))\n .         res <- 1\n .         for (i in seq_len(nd)) res <- res * cbind(1, poly(newdata[[i]], \n .             degree = degree, coefs = coefs[[i]], simple = TRUE))[, \n .             1L + z[, i], drop = FALSE]\n .         colnames(res) <- apply(z, 1L, function(x) paste(x, collapse = \".\"))\n .         res\n .     }\n . })(V1 = c(1, 1, 1, 1, 1, 1, 1, 1, 1, 1, 1, 1, 1, 1, 1, 1, 1, \n . 1, 1, 1, 1, 1, 1, 1, 1, 1, 1, 1, 1, 1, 1, 1, 1, 1, 1, 1, 1, 1, \n . 1, 1, 1, 1, 1, 1, 1, 1, 1, 1, 1, 1, 1, 1, 1, 1, 1, 1, 1, 1, 1, \n . 1, 1, 1, 1, 1, 1, 1, 1, 1, 1, 1, 1, 1, 1, 1, 1, 1, 1, 1, 1, 1, \n . 1, 1, 1, 1, 1, 1, 1, 1, 1, 1, 1, 1, 1, 1, 1, 1, 1, 1, 1, 1, 1, \n . 1, 1, 1, 1, 1, 1, 1, 1, 1, 1, 1, 1, 1, 1, 1, 1, 1), `1.0` = c(0.051267, \n . -0.092742, -0.21371, -0.375, -0.51325, -0.52477, -0.39804, -0.30588, \n . 0.016705, 0.13191, 0.38537, 0.52938, 0.63882, 0.73675, 0.54666, \n . 0.322, 0.16647, -0.046659, -0.17339, -0.47869, -0.60541, -0.62846, \n . -0.59389, -0.42108, -0.11578, 0.20104, 0.46601, 0.67339, -0.13882, \n . -0.29435, -0.26555, -0.16187, -0.17339, -0.28283, -0.36348, -0.30012, \n . -0.23675, -0.06394, 0.062788, 0.22984, 0.2932, 0.48329, 0.64459, \n . 0.46025, 0.6273, 0.57546, 0.72523, 0.22408, 0.44297, 0.322, 0.13767, \n . -0.0063364, -0.092742, -0.20795, -0.20795, -0.43836, -0.21947, \n . -0.13882, 0.18376, 0.22408, 0.29896, 0.50634, 0.61578, 0.60426, \n . 0.76555, 0.92684, 0.82316, 0.96141, 0.93836, 0.86348, 0.89804, \n . 0.85196, 0.82892, 0.79435, 0.59274, 0.51786, 0.46601, 0.35081, \n . 0.28744, 0.085829, 0.14919, -0.13306, -0.40956, -0.39228, -0.74366, \n . -0.69758, -0.75518, -0.69758, -0.4038, -0.38076, -0.50749, -0.54781, \n . 0.10311, 0.057028, -0.10426, -0.081221, 0.28744, 0.39689, 0.63882, \n . 0.82316, 0.67339, 1.0709, -0.046659, -0.23675, -0.15035, -0.49021, \n . -0.46717, -0.28859, -0.61118, -0.66302, -0.59965, -0.72638, -0.83007, \n . -0.72062, -0.59389, -0.48445, -0.0063364, 0.63265), `2.0` = c(0.002628305289, \n . 0.008601078564, 0.0456719641, 0.140625, 0.2634255625, 0.2753835529, \n . 0.1584358416, 0.0935625744, 0.000279057025, 0.0174002481, 0.1485100369, \n . 0.2802431844, 0.4080909924, 0.5428005625, 0.2988371556, 0.103684, \n . 0.0277122609, 0.002177062281, 0.0300640921, 0.2291441161, 0.3665212681, \n . 0.3949619716, 0.3527053321, 0.1773083664, 0.0134050084, 0.0404170816, \n . 0.2171653201, 0.4534540921, 0.0192709924, 0.0866419225, 0.0705168025, \n . 0.0262018969, 0.0300640921, 0.0799928089, 0.1321177104, 0.0900720144, \n . 0.0560505625, 0.0040883236, 0.003942332944, 0.0528264256, 0.08596624, \n . 0.2335692241, 0.4154962681, 0.2118300625, 0.39350529, 0.3311542116, \n . 0.5259585529, 0.0502118464, 0.1962224209, 0.103684, 0.0189530289, \n . 4.014996496e-05, 0.008601078564, 0.0432432025, 0.0432432025, \n . 0.1921594896, 0.0481670809, 0.0192709924, 0.0337677376, 0.0502118464, \n . 0.0893770816, 0.2563801956, 0.3791850084, 0.3651301476, 0.5860668025, \n . 0.8590323856, 0.6775923856, 0.9243091881, 0.8805194896, 0.7455977104, \n . 0.8064758416, 0.7258358416, 0.6871083664, 0.6309919225, 0.3513407076, \n . 0.2681789796, 0.2171653201, 0.1230676561, 0.0826217536, 0.007366617241, \n . 0.0222576561, 0.0177049636, 0.1677393936, 0.1538835984, 0.5530301956, \n . 0.4866178564, 0.5702968324, 0.4866178564, 0.16305444, 0.1449781776, \n . 0.2575461001, 0.3000957961, 0.0106316721, 0.003252192784, 0.0108701476, \n . 0.006596850841, 0.0826217536, 0.1575216721, 0.4080909924, 0.6775923856, \n . 0.4534540921, 1.14682681, 0.002177062281, 0.0560505625, 0.0226051225, \n . 0.2403058441, 0.2182478089, 0.0832841881, 0.3735409924, 0.4395955204, \n . 0.3595801225, 0.5276279044, 0.6890162049, 0.5192931844, 0.3527053321, \n . 0.2346918025, 4.014996496e-05, 0.4002460225), `3.0` = c(0.000134745327251163, \n . -0.000797681228182488, -0.009760555447811, -0.052734375, -0.135203169953125, \n . -0.144513027055333, -0.063063802390464, -0.028618920257472, 4.661647602625e-06, \n . 0.002295266726871, 0.057231312920153, 0.148355136957672, 0.260696687764968, \n . 0.399908314421875, 0.163362319480296, 0.033386248, 0.004613260072023, \n . -0.000101579548969179, -0.005212812929219, -0.109688996935909, \n . -0.221895640920421, -0.248217800671736, -0.209468169680869, -0.074661006923712, \n . -0.001552031872552, 0.008125450084864, 0.101201210819801, 0.305351451079219, \n . -0.002675199164968, -0.025503049887875, -0.018725736903875, -0.004241301051203, \n . -0.005212812929219, -0.022624366141187, -0.048022145376192, -0.027032412961728, \n . -0.013269970671875, -0.000261407410984, 0.000247531200887872, \n . 0.012141625659904, 0.025205301568, 0.112881670315289, 0.267824739454579, \n . 0.097494786265625, 0.246845868417, 0.190566002607336, 0.381440921319667, \n . 0.011251470541312, 0.086920645786073, 0.033386248, 0.002609263488663, \n . -2.54406237972544e-07, -0.000797681228182488, -0.008992423959875, \n . -0.008992423959875, -0.084235033861056, -0.010571229245123, -0.002675199164968, \n . 0.006205159461376, 0.011251470541312, 0.026720172315136, 0.129815548240104, \n . 0.233494544472552, 0.220633542988776, 0.448663440653875, 0.796185576269504, \n . 0.557766948130496, 0.888640096531221, 0.826244268261056, 0.643808710976192, \n . 0.724247564790464, 0.618383103609536, 0.569557867076288, 0.501228433637875, \n . 0.208253691022824, 0.138879166375656, 0.101201210819801, 0.043173364436441, \n . 0.023748796854784, 0.000632269391177789, 0.003320619713559, -0.002355822456616, \n . -0.068699346042816, -0.060365457980352, -0.411266435259896, -0.339454884267512, \n . -0.430676761891832, -0.339454884267512, -0.065841382872, -0.055201890902976, \n . -0.130702070339749, -0.164395478061541, 0.001096231710231, 0.000185466050085952, \n . -0.001133321588776, -0.000535802822156861, 0.023748796854784, \n . 0.062518776439769, 0.260696687764968, 0.557766948130496, 0.305351451079219, \n . 1.228136830829, -0.000101579548969179, -0.013269970671875, -0.003398680167875, \n . -0.117800327836261, -0.101958828883813, -0.024034983843779, -0.228300783735032, \n . -0.291460621935608, -0.215622220457125, -0.383258357198072, -0.571931681201343, \n . -0.374213054542328, -0.209468169680869, -0.113696443721125, -2.54406237972544e-07, \n . 0.253215646134625), `4.0` = c(6.90798869218537e-06, 7.39785524641003e-05, \n . 0.00208592830475169, 0.019775390625, 0.0693930269784414, 0.0758361012078271, \n . 0.0251019159035003, 0.00875395532835553, 7.78728232018506e-08, \n . 0.000302768633941554, 0.0220552310600394, 0.0785362424026524, \n . 0.166538258078017, 0.294632450650316, 0.0893036455670986, 0.010750371856, \n . 0.000767969404189669, 4.73960017535292e-06, 0.000903849633797282, \n . 0.0525070259432503, 0.134337839969632, 0.155994959010159, 0.124401051291771, \n . 0.0314382567954367, 0.000179694250204071, 0.00163354048506106, \n . 0.0471607762541355, 0.205620613642235, 0.000371371148080858, \n . 0.00750682273449601, 0.00497261943482401, 0.00068653940115823, \n . 0.000903849633797282, 0.00639884947571192, 0.0174550894013383, \n . 0.00811296777807381, 0.00314166555656641, 1.6714389858317e-05, \n . 1.55419890413477e-05, 0.00279063124167233, 0.0073901944197376, \n . 0.054554582446676, 0.172637148805027, 0.0448719753787539, 0.154846413257984, \n . 0.109663111860418, 0.276632399368662, 0.00252122951889719, 0.0385032384638567, \n . 0.010750371856, 0.000359217304484235, 1.61201968628923e-09, 7.39785524641003e-05, \n . 0.00186997456245601, 0.00186997456245601, 0.0369252694433325, \n . 0.00232006768242714, 0.000371371148080858, 0.00114026010262245, \n . 0.00252122951889719, 0.00798826271533306, 0.0657308046958943, \n . 0.143781270595308, 0.133320024686398, 0.343474296992574, 0.737936639509627, \n . 0.459131441023099, 0.854347475206081, 0.775314571565444, 0.555915945753722, \n . 0.650403283084428, 0.52683766895118, 0.472117907176877, 0.398150806260246, \n . 0.123440292816869, 0.0719199650992972, 0.0471607762541355, 0.0151456479779479, \n . 0.00682635416793911, 5.42670495753985e-05, 0.000495403255065867, \n . 0.000313465736077325, 0.0281365041652957, 0.0236801618565325, \n . 0.305842397245374, 0.236796938167331, 0.325238477045474, 0.236796938167331, \n . 0.0265867504037136, 0.0210186719802171, 0.0663299936767192, 0.0900574868368928, \n . 0.000113032451641918, 1.05767579043017e-05, 0.000118160108845786, \n . 4.35184410184024e-05, 0.00682635416793911, 0.0248130771811799, \n . 0.166538258078017, 0.459131441023099, 0.205620613642235, 1.31521173213478, \n . 4.73960017535292e-06, 0.00314166555656641, 0.000510991563240006, \n . 0.0577468987086135, 0.0476321060896509, 0.00693625598747618, \n . 0.139532873003177, 0.193244221555747, 0.129297864497115, 0.278391205501536, \n . 0.474743330614799, 0.269665411364292, 0.124401051291771, 0.055080242160699, \n . 1.61201968628923e-09, 0.160196878527071), `5.0` = c(3.54151856282268e-07, \n . -6.86091891262559e-06, -0.000445783738008484, -0.007415771484375, \n . -0.035615971096685, -0.0397965108308314, -0.00999156660622926, \n . -0.00267765985583739, 1.30086551158692e-09, 3.99382105032303e-05, \n . 0.00849942439360737, 0.0415755160031161, 0.106387970025399, 0.217070458016621, \n . 0.0488187308857101, 0.003461619737632, 0.000127843866715454, \n . -2.21145004581792e-07, -0.000156718488004111, -0.0251345882487745, \n . -0.081329471696015, -0.0980365919395247, -0.0738805403516701, \n . -0.0132380211714225, -2.08050002886273e-05, 0.000328406979116675, \n . 0.0219773933421897, 0.138462865020545, -5.15537427765847e-05, \n . -0.0022096332718989, -0.00132047909091752, -0.000111130132865483, \n . -0.000156718488004111, -0.0018097865972156, -0.00634457589559844, \n . -0.00243486388955551, -0.000743789320517096, -1.06871808754079e-06, \n . 9.7585040792814e-07, 0.000641398684585969, 0.00216680500386707, \n . 0.0263656841506541, 0.111280179748232, 0.0206523266680715, 0.0971351550367334, \n . 0.0631067343511959, 0.200622114994135, 0.000564957110594483, \n . 0.0170557795423346, 0.003461619737632, 4.94534463083446e-05, \n . -1.02144015402031e-11, -6.86091891262559e-06, -0.000388861210262726, \n . -0.000388861210262726, -0.0161865611131792, -0.000509185254262285, \n . -5.15537427765847e-05, 0.000209534196457902, 0.000564957110594483, \n . 0.00238817102137597, 0.0332821356497191, 0.0885376308071788, \n . 0.0805599581170027, 0.262946748062665, 0.683949194963103, 0.377938636992574, \n . 0.821378206137878, 0.72752418137415, 0.480022300839424, 0.58408816434114, \n . 0.448844620439648, 0.391347975617057, 0.316271092952826, 0.0731679991642708, \n . 0.0372444731263221, 0.0219773933421897, 0.00531324476714389, \n . 0.00196216724203242, 4.65768659800687e-06, 7.39092116232767e-05, \n . -4.17097508424489e-05, -0.0115235866459385, -0.00928925389308057, \n . -0.227442757135495, -0.165184808126767, -0.245613593095201, -0.165184808126767, \n . -0.0107357298130196, -0.00800306954318748, -0.0336618084909982, \n . -0.0493343918641182, 1.16547760887982e-05, 6.03171349766516e-07, \n . -1.23193729482616e-05, -3.53461129795566e-06, 0.00196216724203242, \n . 0.0098480622024385, 0.106387970025399, 0.377938636992574, 0.138462865020545, \n . 1.40846024394313, -2.21145004581792e-07, -0.000743789320517096, \n . -7.6827581533135e-05, -0.0283081072159494, -0.0222522910019022, \n . -0.00200173411542575, -0.0852797013220816, -0.128124783775891, \n . -0.077533464445695, -0.202217803852205, -0.394070196443426, -0.194326288737336, \n . -0.0738805403516701, -0.0266836233147506, -1.02144015402031e-11, \n . 0.101348555200151), `6.0` = c(1.8156303216023e-08, 6.36295341794723e-07, \n . 9.5268442649793e-05, 0.00278091430664062, 0.0182798971653736, \n . 0.0208840149886954, 0.00397704317194349, 0.000819042596703541, \n . 2.17309583710594e-11, 5.26824934748111e-06, 0.00327542317856447, \n . 0.0220092466617296, 0.0679627630116253, 0.159926659943745, 0.0266872474259823, \n . 0.0011146415555175, 2.12821684921217e-05, 1.03184047687818e-08, \n . 2.71734186350328e-05, 0.0120316760488059, 0.0492376754594844, \n . 0.0616120765703137, 0.0438769141094533, 0.00557426595486257, \n . 2.40880293341727e-06, 6.60229390816164e-05, 0.0102416850713938, \n . 0.0932395086761847, 7.15669057224548e-06, 0.000650405553583441, \n . 0.000350653222593146, 1.79886346069357e-05, 2.71734186350328e-05, \n . 0.000511861943290489, 0.00230612644653212, 0.0007307513505334, \n . 0.000176092121632423, 6.83338345173579e-08, 6.1271695412992e-08, \n . 0.000147419073665239, 0.000635307227133823, 0.0127422714931696, \n . 0.0717300910639131, 0.0095052333489799, 0.0609328827545429, 0.0363154013497392, \n . 0.145497176457196, 0.000126595589342012, 0.00755519866386797, \n . 0.0011146415555175, 6.80825595326981e-06, 6.47225339193427e-14, \n . 6.36295341794723e-07, 8.0863688674134e-05, 8.0863688674134e-05, \n . 0.00709554092957325, 0.000111750887752944, 7.15669057224548e-06, \n . 3.85040039411041e-05, 0.000126595589342012, 0.00071396760855056, \n . 0.0168520765648788, 0.0545197022984446, 0.0486791602917801, 0.201298882979373, \n . 0.633911471859602, 0.311103968426807, 0.789681221163018, 0.682679590834248, \n . 0.414489656328826, 0.524534535104917, 0.382397662829762, 0.324396163948491, \n . 0.251229942687078, 0.0433695998246299, 0.0192874228531971, 0.0102416850713938, \n . 0.00186393939676175, 0.000564005352049798, 3.99764583020332e-07, \n . 1.10265152820767e-05, 5.54989944709625e-06, 0.00471960014671058, \n . 0.00364398851717764, 0.169140080771382, 0.11522961845307, 0.185482473233634, \n . 0.11522961845307, 0.00433508769849729, 0.00304724875926406, 0.0170830311910967, \n . 0.0270258732070826, 1.20172396251598e-06, 3.43976557344849e-08, \n . 1.28441782358576e-06, 2.87084664231257e-07, 0.000564005352049798, \n . 0.00390859740752582, 0.0679627630116253, 0.311103968426807, 0.0932395086761847, \n . 1.5083200752387, 1.03184047687818e-08, 0.000176092121632423, \n . 1.15510268835068e-05, 0.0138769172383306, 0.0103956027873587, \n . 0.000577680448370718, 0.0521212478540298, 0.0849492941390915, \n . 0.046492941954861, 0.146886968362165, 0.327105847961795, 0.140035410189899, \n . 0.0438769141094533, 0.0129268813148309, 6.47225339193427e-14, \n . 0.0641181634473757), `0.1` = c(0.69956, 0.68494, 0.69225, 0.50219, \n . 0.46564, 0.2098, 0.034357, -0.19225, -0.40424, -0.51389, -0.56506, \n . -0.5212, -0.24342, -0.18494, 0.48757, 0.5826, 0.53874, 0.81652, \n . 0.69956, 0.63377, 0.59722, 0.33406, 0.005117, -0.27266, -0.39693, \n . -0.60161, -0.53582, -0.53582, 0.54605, 0.77997, 0.96272, 0.8019, \n . 0.64839, 0.47295, 0.31213, 0.027047, -0.21418, -0.18494, -0.16301, \n . -0.41155, -0.2288, -0.18494, -0.14108, 0.012427, 0.15863, 0.26827, \n . 0.44371, 0.52412, 0.67032, 0.69225, 0.57529, 0.39985, 0.55336, \n . 0.35599, 0.17325, 0.21711, -0.016813, -0.27266, 0.93348, 0.77997, \n . 0.61915, 0.75804, 0.7288, 0.59722, 0.50219, 0.3633, 0.27558, \n . 0.085526, 0.012427, -0.082602, -0.20687, -0.36769, -0.5212, -0.55775, \n . -0.7405, -0.5943, -0.41886, -0.57968, -0.76974, -0.75512, -0.57968, \n . -0.4481, -0.41155, -0.25804, -0.25804, 0.041667, 0.2902, 0.68494, \n . 0.70687, 0.91886, 0.90424, 0.70687, 0.77997, 0.91886, 0.99196, \n . 1.1089, 1.087, 0.82383, 0.88962, 0.66301, 0.64108, 0.10015, -0.57968, \n . -0.63816, -0.36769, -0.3019, -0.13377, -0.060673, -0.067982, \n . -0.21418, -0.41886, -0.082602, 0.31213, 0.53874, 0.49488, 0.99927, \n . 0.99927, -0.030612), `1.1` = c(0.03586434252, -0.06352270548, \n . -0.1479407475, -0.18832125, -0.23898973, -0.110096746, -0.01367546028, \n . 0.05880543, -0.0067528292, -0.0677872299, -0.2177571722, -0.275912856, \n . -0.1555015644, -0.136254545, 0.2665350162, 0.1875972, 0.0896840478, \n . -0.03809800668, -0.1212967084, -0.3033793613, -0.3615629602, \n . -0.2099433476, -0.00303893513, 0.1148116728, 0.0459565554, -0.1209476744, \n . -0.2496974782, -0.3608158298, -0.075802661, -0.2295841695, -0.255650296, \n . -0.129803553, -0.1124243421, -0.1337644485, -0.1134530124, -0.00811734564, \n . 0.050707115, 0.0118250636, -0.01023507188, -0.094590652, -0.06708416, \n . -0.0893796526, -0.0909387572, 0.00571952675, 0.099508599, 0.1543786542, \n . 0.3217918033, 0.1174448096, 0.2969316504, 0.2229045, 0.0792001743, \n . -0.00253360954, -0.05131971312, -0.0740281205, -0.0360273375, \n . -0.0951723396, 0.00368994911, 0.0378506612, 0.1715362848, 0.1747756776, \n . 0.185101084, 0.3838259736, 0.448780464, 0.3608761572, 0.3844515545, \n . 0.336720972, 0.2268464328, 0.08222555166, 0.01166099972, -0.07132517496, \n . -0.1857775348, -0.3132571724, -0.432033104, -0.4430487125, -0.43892397, \n . -0.307764198, -0.1951929486, -0.2033575408, -0.2212540656, -0.06481119448, \n . -0.0864824592, 0.059624186, 0.168554418, 0.1012239312, 0.1918940264, \n . -0.02906606586, -0.219153236, -0.4778004452, -0.285434106, -0.3498651336, \n . -0.4588927576, -0.3872304547, 0.0804227067, 0.05240074808, -0.1034217496, \n . -0.0900659669, 0.31244728, 0.3269698887, 0.5683070484, 0.5457633116, \n . 0.4316968612, 0.107250635, 0.02704728912, 0.15108438, 0.0552821915, \n . 0.147994399, 0.0624933309, 0.01750962107, 0.04154923876, 0.1420056236, \n . 0.251169399, 0.06000044076, -0.2590897491, -0.3882268188, -0.2939042832, \n . -0.4840963515, -0.006331774428, -0.0193666818), `2.1` = c(0.00183865724797284, \n . 0.00589122275162616, 0.031616417148225, 0.07062046875, 0.1226614789225, \n . 0.05777546939842, 0.0054433802098512, -0.0179874049284, -0.000112806011786, \n . -0.008941813496109, -0.083917081450714, -0.14606274770928, -0.099337509370008, \n . -0.10038553602875, 0.145704031955892, 0.0604062984, 0.014929703437266, \n . 0.00177761489368212, 0.021031636269476, 0.145224666460697, 0.218893831734682, \n . 0.131940996232696, 0.0018047931843557, -0.048344899182624, -0.005320849984212, \n . -0.024315320461376, -0.116361521815982, -0.242969771629022, 0.01052292540002, \n . 0.067578100292325, 0.0678879361028, 0.02101130112411, 0.019493256676719, \n . 0.037832598969255, 0.041237900947152, 0.0024361777734768, -0.01200490947625, \n . -0.000756094566584, -0.00064263969320144, -0.02174071545568, \n . -0.019669075712, -0.043196292305054, -0.058618213503548, 0.0026324121866875, \n . 0.0624217441527, 0.088838740345932, 0.233373069507259, 0.026317032935168, \n . 0.131531813177688, 0.071775249, 0.010903487995881, 1.6053963489256e-05, \n . 0.00475949283417504, 0.015394147657975, 0.007491884833125, 0.041719746787056, \n . -0.0008098331311717, -0.005254428787784, 0.031521507694848, 0.039163733836608, \n . 0.05533782007264, 0.194346443472624, 0.27635003412192, 0.218063026749672, \n . 0.294316887547475, 0.31208646568848, 0.186730909623648, 0.0790524676214406, \n . 0.0109422156972592, -0.0615878620744608, -0.166835657351792, \n . -0.266882580597904, -0.35812088056768, -0.351935744774375, -0.2601677939778, \n . -0.15937876757628, -0.090961865977086, -0.071339858888048, -0.063597268616064, \n . -0.00556268001102392, -0.012902318088048, -0.00793359418916, \n . -0.06903314743608, -0.039708123731136, -0.142703911672624, 0.0202759062226188, \n . 0.16550014076248, 0.333304034562616, 0.1152582920028, 0.133214648269536, \n . 0.232883485554424, 0.212128715389207, 0.008292385287837, 0.00298830986150624, \n . 0.010782751613296, 0.0073152478975849, 0.0898098461632, 0.129771079126143, \n . 0.363045908658888, 0.449250527576656, 0.290700349363468, 0.1148547050215, \n . -0.00126199946305008, -0.035769226965, -0.008311677492025, -0.07254833433379, \n . -0.029195009396553, -0.0050531015445913, -0.0253940637453368, \n . -0.094152568559272, -0.15061373011035, -0.0435831201592488, 0.215062628035437, \n . 0.279764010163656, 0.174546814749648, 0.234520477484175, 4.01206554855792e-05, \n . -0.01225233124077), `3.1` = c(9.42624411318236e-05, -0.000546363780431313, \n . -0.00675674450874717, -0.02648267578125, -0.0629560040569731, \n . -0.0303188330762089, -0.00216668305872917, 0.00550198741949899, \n . -1.88442442688513e-06, -0.00117951461827174, -0.0323391256786617, \n . -0.0773226973823386, -0.0634587877357485, -0.0739590436691816, \n . 0.0796505661090079, 0.0194508280848, 0.00248534773120167, -8.2941733324314e-05, \n . -0.00364667541276444, -0.069517595588071, -0.132520514670494, \n . -0.0829196384924001, -0.00107184862425701, 0.0203570701478193, \n . 0.000616048011172065, -0.00488835202555503, -0.0542256327814658, \n . -0.163613414517267, -0.00146079250403078, -0.0198916138210459, \n . -0.0180276414320985, -0.00340109931295969, -0.00337993577517631, \n . -0.0107001939664744, -0.0149891522362708, -0.000731145673375857, \n . 0.00284216231850219, 4.83446865873809e-05, -4.0350061056732e-05, \n . -0.00499688604033349, -0.0057669729987584, -0.0208763361081095, \n . -0.037784714242252, 0.00121156770892292, 0.0391571601069887, \n . 0.05112314151947, 0.169249151198749, 0.00589712074011245, 0.0582646472833204, \n . 0.023111630178, 0.00150108319239294, -1.01724334253322e-07, -0.000441404884427062, \n . -0.0032012130054759, -0.00155793745104834, -0.0182882682015739, \n . 0.000177734077298253, 0.000729419804320175, 0.00579239225400527, \n . 0.00877580947810712, 0.0165437946889165, 0.0984053781879285, \n . 0.170170824011596, 0.131766764543757, 0.225314293261969, 0.289254219858711, \n . 0.153709415565802, 0.0760018328959292, 0.0102677375216801, -0.0531798871440554, \n . -0.149825093728203, -0.22737328336619, -0.296853560320161, -0.279560158861525, \n . -0.154211858202401, -0.0825358885770524, -0.0423891391639818, \n . -0.0250267358965161, -0.0182803988910014, -0.000477439262666172, \n . -0.00192489683555588, 0.00105564404280963, 0.0282732158639209, \n . 0.01557670277725, 0.106123190954464, -0.0141440666627744, -0.12498239630101, \n . -0.23250622843019, -0.0465412983107306, -0.0507228094751085, \n . -0.118186040084015, -0.116206231577361, 0.000855027847028873, \n . 0.000170417334781978, -0.00112420968320224, -0.000594151749489743, \n . 0.0258149421811502, 0.0515048435943749, 0.231920987369471, 0.36980506428, \n . 0.195754708257866, 0.122997903607524, 5.88836329464537e-05, 0.00846836448396375, \n . 0.00124966071092596, 0.0355639189737672, 0.0136390325397877, \n . 0.0014582745747536, 0.0155203438798749, 0.0624250360061685, 0.0903155232606714, \n . 0.0316579068212751, -0.178517035653375, -0.201603541004134, -0.103661607811668, \n . -0.113613445317209, -2.54220521418824e-07, -0.00775143735947314\n . ), `4.1` = c(4.8325525695052e-06, 5.06708697247609e-05, 0.00144398386896436, \n . 0.00993100341796875, 0.0323121690822415, 0.0159104140334021, \n . 0.000862426524696559, -0.00168294791187635, -3.14793100511161e-08, \n . -0.000155589773296225, -0.0124625288627858, -0.0409330895402624, \n . -0.0405387427813509, -0.0544893254232695, 0.0435417784691503, \n . 0.0062631666433056, 0.000413735836813142, 3.86997833517917e-06, \n . 0.000632297049819227, 0.0332773778320537, 0.0802292447866637, \n . 0.0521116760069338, 0.000636560179459994, -0.00857195509784376, \n . -7.13260387335017e-05, -0.000982754291217583, -0.0252696871324909, \n . -0.110175637201783, 0.000202787215409552, 0.00585509652822485, \n . 0.00478724018229377, 0.000550535945788784, 0.00058604706405782, \n . 0.00302633585953795, 0.00544825705483971, 0.000219431439493562, \n . -0.000672881928905393, -3.09115926039714e-06, -2.53349963363009e-06, \n . -0.00114848428751025, -0.00169087648323596, -0.0100893244776883, \n . -0.0243556489534132, 0.000557624038031775, 0.024563286535114, \n . 0.0294193230187942, 0.122744561923869, 0.0013214268154444, 0.0258094908070925, \n . 0.007441944917316, 0.000206654123096736, 6.44566071562748e-10, \n . 4.09367717915346e-05, 0.000665692244488714, 0.000323973092945503, \n . 0.00801684524884192, -3.90072979446476e-05, -0.000101258057235727, \n . 0.00106441000059601, 0.00196648338785424, 0.00494593286019846, \n . 0.0498265791916757, 0.104787790009861, 0.0796213851432105, 0.172489357206701, \n . 0.268092381133848, 0.126527442517146, 0.0730689221644753, 0.00963483418084378, \n . -0.045919768951149, -0.134548927171676, -0.19371294249666, -0.246067853220588, \n . -0.222068612191652, -0.0914075368308913, -0.0427420352585123, \n . -0.0197537627418072, -0.00877962921985682, -0.00525451785722945, \n . -4.09781344753749e-05, -0.000287175358896582, -0.000140463996336249, \n . -0.0115795782892275, -0.00611042896545964, -0.0789195721851964, \n . 0.00986661802261818, 0.0943842060385965, 0.162191694828332, 0.018793376257873, \n . 0.0193132169357423, 0.0599782334822366, 0.0636589357203944, 8.81619213071471e-05, \n . 9.71855976794663e-06, 0.000117210101570666, 4.82575992453064e-05, \n . 0.00742024698054981, 0.0204417573741715, 0.148155765151365, 0.304408736712725, \n . 0.131819262993764, 0.131718454973298, -2.74745142964858e-06, \n . -0.00200488529157842, -0.000187886487887718, -0.0174337887201304, \n . -0.0063717468316126, -0.000420843459528142, -0.00948572377250197, \n . -0.0413890473728099, -0.0541577035232616, -0.0229956703568378, \n . 0.148181635784797, 0.145279543718399, 0.0615635922632718, 0.0550400335839217, \n . 1.61084291191824e-09, -0.00490394684547068), `5.1` = c(2.47750472580823e-07, \n . -4.69931780001377e-06, -0.000308593792636373, -0.00372412628173828, \n . -0.0165842207814604, -0.00834930797230843, -0.000343280253890219, \n . 0.000514780107284738, -5.25861874403895e-10, -2.0523846995505e-05, \n . -0.00480268474785178, -0.0216691589408241, -0.0258969596635826, \n . -0.0401450105055938, 0.0238025486179457, 0.0020167396591444, \n . 6.88746047542838e-05, -1.80569319141125e-07, -0.000109633985468156, \n . -0.0159295479944258, -0.048571587086294, -0.0327501039033176, \n . -0.000378046724979496, 0.00360947885260005, 8.25812876456483e-06, \n . -0.000197572922706383, -0.0117759269006121, -0.0741911723353083, \n . -2.81509212431541e-05, -0.00172344766308298, -0.00127125163040811, \n . -8.91152535448305e-05, -0.000101614700436985, -0.000855938571153119, \n . -0.00198033247429314, -6.58557636208079e-05, 0.000159304796668352, \n . 1.97648723109793e-07, -1.59073374996366e-07, -0.000263967628641356, \n . -0.000495764984884785, -0.00487606962682196, -0.0156994077588806, \n . 0.000256646463504124, 0.015408549643477, 0.0169296436243953, \n . 0.0890180386440476, 0.00029610532080478, 0.0114328301428177, \n . 0.00239630626337575, 2.84500731267276e-05, -4.08422845585019e-12, \n . -3.7965580894905e-06, -0.000138430702241428, -6.73702046780173e-05, \n . -0.00351426428328235, 8.56093167991181e-06, 1.40566435054636e-05, \n . 0.000195595981709522, 0.000440649597550379, 0.00147863608788493, \n . 0.0252291901079131, 0.0645262253322719, 0.0481120181866364, 0.13204922740959, \n . 0.248478742530095, 0.104152329582414, 0.0702491924581482, 0.00904094300193657, \n . -0.0396508020939381, -0.120830318557252, -0.165035678489454, \n . -0.20397056489161, -0.176400202094439, -0.0541809033811425, -0.0221343903789732, \n . -0.00920545097530956, -0.00307998172661797, -0.00151035861288203, \n . -3.51711230388695e-06, -4.2843691793781e-05, 1.86901393525013e-05, \n . 0.004742532084136, 0.00239699907457051, 0.0586893290512431, -0.00688275540021799, \n . -0.0712770647162273, -0.113141682478348, -0.00758876533292913, \n . -0.00735370048045325, -0.0304383537099002, -0.0348730015769893, \n . 9.09037570597994e-06, 5.54230026446461e-07, -1.22203251897576e-05, \n . -3.91953046830303e-06, 0.00213287579208924, 0.00811312908423491, \n . 0.0946448658939953, 0.250577095712447, 0.0887657735073709, 0.141057293430905, \n . 1.28193336255973e-07, 0.00047465659278119, 2.82487334539184e-05, \n . 0.00854621756849513, 0.00297668896732446, 0.000121451213985227, \n . 0.00579748465527775, 0.0274417661891204, 0.0324756669177238, \n . 0.0167035950337999, -0.123001130415887, -0.104691344794353, -0.0365620018092345, \n . -0.0266641442697309, -1.02069450270787e-11, -0.00310248197178703\n . ), `0.2` = c(0.4893841936, 0.4691428036, 0.4792100625, 0.2521947961, \n . 0.2168206096, 0.04401604, 0.001180403449, 0.0369600625, 0.1634099776, \n . 0.2640829321, 0.3192928036, 0.27164944, 0.0592532964, 0.0342028036, \n . 0.2377245049, 0.33942276, 0.2902407876, 0.6667049104, 0.4893841936, \n . 0.4016644129, 0.3566717284, 0.1115960836, 2.6183689e-05, 0.0743434756, \n . 0.1575534249, 0.3619345921, 0.2871030724, 0.2871030724, 0.2981706025, \n . 0.6083532009, 0.9268297984, 0.64304361, 0.4204095921, 0.2236817025, \n . 0.0974251369, 0.000731540209, 0.0458730724, 0.0342028036, 0.0265722601, \n . 0.1693734025, 0.05234944, 0.0342028036, 0.0199035664, 0.000154430329, \n . 0.0251634769, 0.0719687929, 0.1968785641, 0.2747017744, 0.4493289024, \n . 0.4792100625, 0.3309585841, 0.1598800225, 0.3062072896, 0.1267288801, \n . 0.0300155625, 0.0471367521, 0.000282676969, 0.0743434756, 0.8713849104, \n . 0.6083532009, 0.3833467225, 0.5746246416, 0.53114944, 0.3566717284, \n . 0.2521947961, 0.13198689, 0.0759443364, 0.007314696676, 0.000154430329, \n . 0.006823090404, 0.0427951969, 0.1351959361, 0.27164944, 0.3110850625, \n . 0.54834025, 0.35319249, 0.1754436996, 0.3360289024, 0.5924996676, \n . 0.5702062144, 0.3360289024, 0.20079361, 0.1693734025, 0.0665846416, \n . 0.0665846416, 0.001736138889, 0.08421604, 0.4691428036, 0.4996651969, \n . 0.8443036996, 0.8176499776, 0.4996651969, 0.6083532009, 0.8443036996, \n . 0.9839846416, 1.22965921, 1.181569, 0.6786958689, 0.7914237444, \n . 0.4395822601, 0.4109835664, 0.0100300225, 0.3360289024, 0.4072481856, \n . 0.1351959361, 0.09114361, 0.0178944129, 0.003681212929, 0.004621552324, \n . 0.0458730724, 0.1754436996, 0.006823090404, 0.0974251369, 0.2902407876, \n . 0.2449062144, 0.9985405329, 0.9985405329, 0.000937094544), `1.2` = c(0.0250892594532912, \n . -0.0435092418914712, -0.102411982456875, -0.0945730485375, -0.1112831778772, \n . -0.0230982973108, -0.00046984778883996, -0.0113053439175, 0.002729763675808, \n . 0.034835179573311, 0.123045867723332, 0.1438057805472, 0.037852190806248, \n . 0.0251989155523, 0.129954477848634, 0.10929412872, 0.048316383911772, \n . -0.0311077844143536, -0.084854325328304, -0.192272737811101, \n . -0.215932631090644, -0.070133674699256, -1.555023106021e-05, \n . -0.031304550705648, -0.018241535534922, 0.072763330395784, 0.133792902769124, \n . 0.193332337923436, -0.04139204303905, -0.179068764684915, -0.24611965296512, \n . -0.1040894691507, -0.072894819174219, -0.063263895918075, -0.035412088760412, \n . -0.00021954984752508, -0.0108604498907, -0.002186927262184, 0.0016684190671588, \n . 0.0389287828306, 0.015348855808, 0.016529872951844, 0.012829639865776, \n . 7.107655892225e-05, 0.01578504905937, 0.041415161562234, 0.142782241042243, \n . 0.061555173607552, 0.199039223896128, 0.154305640125, 0.045563068273047, \n . -0.001013063774569, -0.0283982764520832, -0.026353270616795, \n . -0.006241736221875, -0.020662866650556, -6.203911438643e-05, \n . -0.010320361282792, 0.160125691135104, 0.136319785257672, 0.1146053361586, \n . 0.290955441027744, 0.3270712021632, 0.215522458602984, 0.193067726154355, \n . 0.1223307291276, 0.062514339951024, 0.00703242253127316, 0.00014491124352044, \n . 0.00589160210204592, 0.038431798624076, 0.115181529719756, 0.2251756538048, \n . 0.247110419396875, 0.325023199785, 0.1829042628714, 0.081758518450596, \n . 0.117882299250944, 0.170308104454944, 0.0489402291757376, 0.050132151949056, \n . -0.0267175977466, -0.0693685707279, -0.026119823206848, -0.049516334572256, \n . -0.00121109576618862, -0.0635982690872, -0.327264636935288, -0.20176480650822, \n . -0.321477076659696, -0.414949187132224, -0.273721591513789, 0.062727298544799, \n . 0.0481489513807888, -0.102590238733216, -0.09987415069541, 0.33963019336, \n . 0.269367603407721, 0.505577316397608, 0.361846533223916, 0.276752223778096, \n . 0.01074115109525, -0.0156787725570816, -0.0964160079408, -0.020326708992635, \n . -0.0446795090581, -0.008359732874493, -0.00106236123918011, -0.00282460034938232, \n . -0.030414764462648, -0.10520481446514, -0.00495615640765752, \n . -0.080869683386583, -0.209153316360312, -0.145447351670016, -0.483742961163405, \n . -0.00632715223266756, 0.0005928528632616), `2.2` = c(0.00128625106439188, \n . 0.00403513411149882, 0.0218864647708588, 0.0354648932015625, \n . 0.0571160910454729, 0.0121212934797885, 0.000187018213869858, \n . 0.0034580785974849, 4.56007022043726e-05, 0.00459510853751545, \n . 0.0474181860445405, 0.0761279041060767, 0.0241807365308474, 0.018565301033157, \n . 0.0710409148607343, 0.03519270944784, 0.00804322842979269, 0.00145145811298932, \n . 0.0147128914686746, 0.0920390368627959, 0.130727774188587, 0.0440762092014944, \n . 9.23512672434812e-06, 0.0131817202111343, 0.00211200498423327, \n . 0.0146283399427684, 0.0623488306194395, 0.130188063034263, 0.00574604341468092, \n . 0.0527088908850047, 0.0653570738448876, 0.0168489623714238, 0.0126392326966178, \n . 0.0178929276825092, 0.0128715860226346, 6.5891300239227e-05, \n . 0.00257121151162323, 0.000139832129144045, 0.000104756696388767, \n . 0.0089473914457851, 0.0045002845229056, 0.00798872229889669, \n . 0.00826985756108055, 3.27129862439656e-05, 0.0099019612749428, \n . 0.0238327688726032, 0.103549964671066, 0.0137932833019803, 0.0881684050092678, \n . 0.04968641612025, 0.00627266760915038, 6.41917730117901e-06, \n . 0.0026337129547191, 0.00548016262476252, 0.00129796904733891, \n . 0.00905777422493773, 1.36157244343898e-05, 0.00143267255327719, \n . 0.0294246970029867, 0.0305465374805391, 0.0342624112979751, 0.147322378009988, \n . 0.201403904868055, 0.130231600835439, 0.147802997757466, 0.113381012984625, \n . 0.0514593040740849, 0.00676104134579133, 0.00013597891446984, \n . 0.00508728058307461, 0.0345132924363652, 0.0981300560600433, \n . 0.186652602951875, 0.196292161647908, 0.192654251440561, 0.0947188015705832, \n . 0.0381002871831622, 0.0413542894002237, 0.0489533615445291, 0.00420049092992438, \n . 0.00747921574927966, 0.0035550435561626, 0.0284105918273187, \n . 0.0102462842475823, 0.0368233173680039, 0.000844836184577858, \n . 0.0480281408492717, 0.228293265433318, 0.0814726288680192, 0.122405611708946, \n . 0.210582562977732, 0.149947425047169, 0.00646781175295422, 0.00274583839934362, \n . 0.0106960582903251, 0.0081118783936319, 0.0976233027793984, 0.10690930811649, \n . 0.32297290126112, 0.297857592288599, 0.186362179969932, 0.0115026987079032, \n . 0.00073155584874087, 0.0228264898799844, 0.00305612069704267, \n . 0.0219023421353712, 0.00390541640697689, 0.000306586830014988, \n . 0.00172633924153549, 0.0201655971340249, 0.0630860669940212, \n . 0.00360005289139427, 0.067127498088701, 0.150720062835568, 0.0863797276833058, \n . 0.234349277535612, 4.00913674070747e-05, 0.000375068363942451\n . ), `3.2` = c(6.59422333181785e-05, -0.000374226407768624, -0.00467735638618023, \n . -0.0132993349505859, -0.029314833729089, -0.00636089117938862, \n . -7.44407298487581e-05, -0.00105775708139868, 7.61759730324045e-07, \n . 0.000606140767183663, 0.0182735463559846, 0.0403005898756749, \n . 0.0154471381106359, 0.0136779855361784, 0.038835226517769, 0.0113320524422045, \n . 0.00133895623670759, -6.77235840939689e-05, -0.00255106825175349, \n . -0.0440581665558518, -0.0791439017715123, -0.0277001344347712, \n . -5.4846494103231e-06, -0.00555055874650442, -0.000244527937074528, \n . 0.00294088146209416, 0.029055178556965, 0.0876673397666421, -0.000797665746826006, \n . -0.0155148620320011, -0.0173555709595099, -0.00272734153906237, \n . -0.00219151655726657, -0.00506065673644406, -0.00467856408750721, \n . -1.97752970277968e-05, -0.000608734325376799, -8.94086633747023e-06, \n . 6.57746345285788e-06, 0.00205646844989925, 0.00131948342211592, \n . 0.00386086959983378, 0.00533066748529691, 1.50561519187851e-05, \n . 0.00621150030777162, 0.0137148051754282, 0.0750975408783971, \n . 0.00309079892230774, 0.0390559583669554, 0.0159990259907205, \n . 0.000863558149751732, -4.06744750511907e-08, -0.000244255806846559, \n . -0.00113959981781937, -0.000269912663394126, -0.0039705659092437, \n . -2.98824304161553e-06, -0.000198883603845939, 0.00540708232126884, \n . 0.00684486811863921, 0.0102430904816426, 0.0745952128815773, \n . 0.124020496539651, 0.0786937471208224, 0.113150584933228, 0.10508605807467, \n . 0.0423592407416237, 0.00650013276025724, 0.000127597174181919, \n . 0.00439276503787327, 0.0309943171395534, 0.0836028825609145, \n . 0.154720075638868, 0.155924678605015, 0.114193880998878, 0.0490510785813422, \n . 0.0177551148302254, 0.0145074982644925, 0.0140711542423594, 0.00036052393602448, \n . 0.00111582419763503, -0.000473034095582995, -0.0116358419887967, \n . -0.0040194123846416, -0.0273840281938898, -0.000589340825637822, \n . -0.036269891406553, -0.159252816100974, -0.0328986475369062, \n . -0.0466071607142982, -0.106868544885569, -0.0821426989150895, \n . 0.00066689606984711, 0.000156589672237768, -0.00111517103734929, \n . -0.000658854875009176, 0.0280608421509103, 0.0424312352983539, \n . 0.206321548783629, 0.245184455668283, 0.125494428369953, 0.0123182400462936, \n . -3.41336643464003e-05, -0.0054041714790863, -0.000459487746800366, \n . -0.0107367471381803, -0.0018244933828474, -8.84778932740254e-05, \n . -0.00105510401764166, -0.0133701942118012, -0.0378295600729648, \n . -0.00261500641925097, -0.055720522338488, -0.108611891680567, \n . -0.0513000564738385, -0.113530507502127, -2.54034940438188e-07, \n . 0.000237287000448192), `4.2` = c(3.38066047552306e-06, 3.47065055092777e-05, \n . 0.000999597833290576, 0.00498725060646973, 0.0150458384114549, \n . 0.00333800486420776, 2.96303881089997e-05, 0.000323546736058229, \n . 1.27251962950632e-08, 7.9956028599197e-05, 0.00704207655920577, \n . 0.0213343262683848, 0.00986794076783643, 0.0100772558437795, \n . 0.0212296649282036, 0.00364892088638984, 0.000222896044724712, \n . 3.15991471024049e-06, 0.000442329724171538, 0.0210902037486207, \n . 0.0479145095714913, 0.0174084264868763, 3.25727843829679e-06, \n . 0.00233722927697808, 2.83114445544888e-05, 0.00059123480913941, \n . 0.0135400037593313, 0.0590343099254591, 0.000110731958974386, \n . 0.00456679963911954, 0.00460877186829786, 0.000441474774928026, \n . 0.00037998705586445, 0.00143130554476848, 0.00170056447452712, \n . 5.93496214398238e-06, 0.000144117851532957, 5.71678993617847e-07, \n . 4.12985775278041e-07, 0.000472658708524843, 0.000386872539364388, \n . 0.00186591966890367, 0.00343609495434754, 6.92959392062087e-06, \n . 0.00389647414306514, 0.00789232178625193, 0.05446298957124, 0.000692586222510717, \n . 0.0173006178778102, 0.005151686369012, 0.000118886050476321, \n . 2.57729743714365e-10, 2.26527720385636e-05, 0.000236979782115537, \n . 5.61283383528084e-05, 0.00174053727197607, 6.5582970034336e-07, \n . 2.76090218858932e-05, 0.000993605447356362, 0.00153379804802467, \n . 0.00306227433039188, 0.0377705400904578, 0.0763693413591863, \n . 0.0475514836352282, 0.086622430295633, 0.0973979620659268, 0.034868432608875, \n . 0.00624929263703891, 0.000119732084365346, 0.00379306475490281, \n . 0.0278341365640045, 0.0712263118265968, 0.128250565098571, 0.123858768449894, \n . 0.067687281023275, 0.0254015915541339, 0.00827406106203336, 0.0050893754661666, \n . 0.0040446125754238, 3.09434089050451e-05, 0.000166469812045171, \n . 6.29419167582733e-05, 0.00476557544493156, 0.00157673509024721, \n . 0.0203644064066681, 0.000411112373148432, 0.0273902965924007, \n . 0.111091579455718, 0.0132844738754027, 0.0177461425135762, 0.0542347178439776, \n . 0.0449985918926752, 6.87636537619355e-05, 8.92999582837545e-06, \n . 0.000116267732354037, 5.35128518031203e-05, 0.00806580846785765, \n . 0.0168405329775637, 0.131802331793958, 0.201826036527904, 0.0845066931200424, \n . 0.0131916032655758, 1.59264264473869e-06, 0.00127943759767368, \n . 6.9083982731435e-05, 0.00526326081460737, 0.000852348573664818, \n . 2.5533835219951e-05, 0.000644858473502229, 0.00886470616630842, \n . 0.0226844956977534, 0.00189948836281552, 0.0462519339775087, \n . 0.0782679013828502, 0.0304665905392479, 0.0549998543594054, 1.60966699659254e-09, \n . 0.000150119620833549), `0.3` = c(0.342353606474816, 0.321334671897784, \n . 0.331733165765625, 0.126649704653459, 0.100960348654144, 0.009234565192, \n . 4.0555121297293e-05, -0.007105572015625, -0.066056849345024, \n . -0.135709577976869, -0.180419591602216, -0.141583688128, -0.014423437409688, \n . -0.006325466497784, 0.115907336854093, 0.197747699976, 0.156364321911624, \n . 0.544377893439808, 0.342353606474816, 0.254562854963633, 0.213011489635048, \n . 0.037279787687416, 1.33981936613e-07, -0.020270492057096, -0.062537680945557, \n . -0.217743469953281, -0.153835568253368, -0.153835568253368, 0.162816057495125, \n . 0.474497246105973, 0.892277583515648, 0.515656670859, 0.272589375421719, \n . 0.105790261197375, 0.030409307980597, 1.9785968032823e-05, -0.009825094646632, \n . -0.006325466497784, -0.004331544118901, -0.069705623798875, -0.011977551872, \n . -0.006325466497784, -0.002807995147712, 1.919105698483e-06, 0.003991682340647, \n . 0.019307068071283, 0.087356987676811, 0.143976693998528, 0.301194149856768, \n . 0.331733165765625, 0.190397163846889, 0.063928026996625, 0.169442865773056, \n . 0.045114214026799, 0.005200196203125, 0.010233860248431, -4.752647879797e-06, \n . -0.020270492057096, 0.813420386160192, 0.474497246105973, 0.237349123235875, \n . 0.435588463318464, 0.387101711872, 0.213011489635048, 0.126649704653459, \n . 0.047950837137, 0.020928740225112, 0.000625596747911576, 1.919105698483e-06, \n . -0.000563600913551208, -0.008853042382703, -0.049710193744609, \n . -0.141583688128, -0.173507693609375, -0.406045955125, -0.209902296807, \n . -0.073486348014456, -0.194789234143232, -0.456070694138424, -0.430574116617728, \n . -0.194789234143232, -0.089975616641, -0.069705623798875, -0.017181500918464, \n . -0.017181500918464, 7.2339699087963e-05, 0.024439494808, 0.321334671897784, \n . 0.353198337732703, 0.775796897414456, 0.739351815745024, 0.353198337732703, \n . 0.474497246105973, 0.775796897414456, 0.976073405081536, 1.363569097969, \n . 1.284365503, 0.559130017675887, 0.704066391493128, 0.291447434268901, \n . 0.263473344747712, 0.001004506753375, -0.194789234143232, -0.259889502122496, \n . -0.049710193744609, -0.027516255859, -0.002393735613633, -0.000223350232041217, \n . -0.000314182370090168, -0.009825094646632, -0.073486348014456, \n . -0.000563600913551208, 0.030409307980597, 0.156364321911624, \n . 0.121199187382272, 0.997811598310983, 0.997811598310983, -2.8686338180928e-05\n . ), `1.3` = c(0.0175514423431444, -0.0298012201411443, -0.0708946948557717, \n . -0.0474936392450471, -0.0518178989467394, -0.00484602277580584, \n . -1.61425604811745e-05, 0.00217345236813938, -0.00110347966830863, \n . -0.0179014504309288, -0.069528298015746, -0.0749515728212006, \n . -0.00921398028605689, -0.00466028744224236, 0.0633619047646585, \n . 0.063674759392272, 0.026029968668628, -0.025400128130008, -0.0593606918266683, \n . -0.121856693042541, -0.128959285939954, -0.0234288553700335, \n . -7.95705323350946e-08, 0.00853549879540198, 0.00724061269987659, \n . -0.0437751471994076, -0.071688913161752, -0.103591333306135, \n . -0.0226021251014733, -0.139668264391293, -0.23694431230258, -0.0834693453119463, \n . -0.0472642718043719, -0.0299206595744536, -0.0110531752647874, \n . -5.93816472601084e-06, 0.00232609115759013, 0.000404450327868309, \n . -0.000271968992137556, -0.0160211405739334, -0.0035118182088704, \n . -0.00305703470371403, -0.00181000559226368, 8.83268397726801e-07, \n . 0.00250398233228786, 0.0111104453923005, 0.0633539081728536, \n . 0.0322622975911902, 0.133419972562053, 0.106818079376531, 0.0262119775468012, \n . -0.000405073550261415, -0.0157144702575248, -0.00938150080687285, \n . -0.00108138080043984, -0.00448611497850221, 1.04306363017905e-06, \n . 0.00281394970736607, 0.149474130160797, 0.106325342907426, 0.0709578938825972, \n . 0.220555862516671, 0.23836949213654, 0.128714322726874, 0.0969566813974555, \n . 0.0444427538920571, 0.0172277018037032, 0.000601454969409668, \n . 1.80081202322851e-06, -0.000486658116833197, -0.0079503861813626, \n . -0.0423510966626571, -0.117361550763062, -0.137825836418607, \n . -0.240679679440793, -0.108700003424473, -0.0342453730382166, \n . -0.0683340112297872, -0.131092960323149, -0.036955745855183, \n . -0.0290606058418288, 0.0119721555502515, 0.0285486352830672, \n . 0.00673995918029506, 0.0127771949730249, -5.04627272897812e-05, \n . -0.0184562176891054, -0.224156640422456, -0.142621488776465, \n . -0.295392426659528, -0.375213652972442, -0.193485581393352, 0.0489254110459869, \n . 0.0442421454657516, -0.101765413213801, -0.11075044570614, 0.36917802018232, \n . 0.221913112715383, 0.44977169221364, 0.239907869992789, 0.177420315619662, \n . 0.00107572628218929, 0.00908867087588906, 0.0615288396275009, \n . 0.00747392762950196, 0.0134887437846404, 0.00111828146662093, \n . 6.44566434647748e-05, 0.000192021980951709, 0.00651423425260995, \n . 0.0440660885868685, 0.000409388431585326, -0.0252418542754542, \n . -0.112679257655954, -0.0719789853944575, -0.483389828801756, \n . -0.00632253341153771, -1.81484118501641e-05), `2.3` = c(0.000899809794605983, \n . 0.00276382475833, 0.015150905237627, 0.0178101147168927, 0.026595536634414, \n . 0.00254304737205963, 6.4253847739267e-06, -0.000664815610366472, \n . -1.84336278590956e-05, -0.00236138032634382, -0.026794120206328, \n . -0.0396778636200872, -0.00588607488633886, -0.00343346677307206, \n . 0.0346374188586482, 0.0205032725243116, 0.00433320888426651, \n . 0.00118514457841804, 0.010292550355826, 0.0583315803925342, 0.0780732413009078, \n . 0.0147240984458512, 4.72561434484893e-08, -0.00359412783276787, \n . -0.000838318138391712, -0.00880055559296891, -0.033407750422508, \n . -0.0697573679350186, 0.00313762700658652, 0.0411113536235771, \n . 0.0629205621319502, 0.0135111829256448, 0.00819515208816004, \n . 0.0084624601474427, 0.00401760814524492, 1.78216199757037e-06, \n . -0.000550702081559462, -2.58605539638997e-05, -1.70763890783329e-05, \n . -0.00368229894951286, -0.0010296650988408, -0.00147743430195795, \n . -0.00116671150471724, 4.0652428005376e-07, 0.00157074811704418, \n . 0.00639361690545325, 0.0459461548241986, 0.00722933564423389, \n . 0.0591010452458124, 0.0343954215592431, 0.00360860294886812, \n . 2.56670804387643e-06, 0.00145739140062336, 0.00195088309278921, \n . 0.000224873137451465, 0.00196653336197623, -2.28921174915396e-07, \n . -0.000390632498376557, 0.027467366158348, 0.0238253828386961, \n . 0.0212135719551413, 0.111676255426691, 0.146783165867839, 0.0777769166509409, \n . 0.0742251874438221, 0.0411913220173142, 0.0141811550167363, 0.000578244822140149, \n . 1.6898099701167e-06, -0.000420219550723129, -0.00713976480631087, \n . -0.0360814403127173, -0.0972833366585171, -0.10948195315912, \n . -0.142660473191735, -0.0562913837733976, -0.0159586862895393, \n . -0.0239722544795216, -0.0376813605152858, -0.0031718747110045, \n . -0.00433555178554243, -0.00159301501751646, -0.011692379066533, \n . -0.00264395118724615, -0.00950188881363973, 3.52017893028056e-05, \n . 0.0139377664744586, 0.156367189225897, 0.0575905571679368, 0.112473620374882, \n . 0.190417176746985, 0.105993336343092, 0.00504469913295171, 0.00252304107162088, \n . 0.0106100619816709, 0.00899526195069841, 0.106116530121206, 0.0880750953056083, \n . 0.287323152419918, 0.197482562263264, 0.119473066335124, 0.00115199527559651, \n . -0.000424068294398108, -0.0145669527818108, -0.00112370501909562, \n . -0.00661231709066857, -0.000522427552761299, -1.86015427374994e-05, \n . -0.000117359994318065, -0.00431906759416545, -0.0264242300211157, \n . -0.000297371568934949, 0.0209525059784262, 0.0811989266520339, \n . 0.0427475996359144, 0.234178202563011, 4.00621007088676e-05, \n . -1.14815927570063e-05), `3.3` = c(4.61305487400649e-05, -0.000256322635737041, \n . -0.00323789995833326, -0.00667879301883475, -0.013650159177613, \n . -0.00133451496943573, -2.55756015541378e-06, 0.000203353798898896, \n . -3.07933753386192e-07, -0.000311489678848013, -0.0103256501039126, \n . -0.0210046674432018, -0.00376014235889099, -0.00252960664506084, \n . 0.0189348913932686, 0.00660205375282833, 0.000721349282963846, \n . -5.52976608844075e-05, -0.00178462530619667, -0.0279227442181022, \n . -0.0472663210159826, -0.00925350690927967, -2.80649510326233e-08, \n . 0.00151341534782189, 9.70604740629924e-05, -0.00176926369641047, \n . -0.015568345774393, -0.0469739139937622, -0.00043556538105434, \n . -0.0121011269390999, -0.0167085552741394, -0.00218705518017412, \n . -0.00142095742056607, -0.00239343760350122, -0.00146032020863363, \n . -5.3486245871082e-07, 0.000130378717809203, 1.65352382045174e-06, \n . -1.07219231745036e-06, -0.000846339590556036, -0.000301897806980123, \n . -0.000714029223793259, -0.000752050568825689, 1.87102799894743e-07, \n . 0.000985330293821811, 0.00367927078441213, 0.0333215298631536, \n . 0.00161994953115993, 0.0261799900125375, 0.0110753257420763, \n . 0.000496796367970674, -1.62636888492186e-08, -0.000135161393276612, \n . -0.000405686139145516, -4.67623689330322e-05, -0.0008620495645559, \n . 5.02413302586819e-08, 5.42276034246337e-05, 0.00504740320525804, \n . 0.00533879178649503, 0.00634200947170903, 0.0565461551727509, \n . 0.0903861378780977, 0.0469974796554976, 0.056823092247618, 0.0381777648985275, \n . 0.0116733595635767, 0.000555930354453761, 1.58565008355871e-06, \n . -0.000362851177658407, -0.00641179438665941, -0.0307399438888227, \n . -0.080640103422978, -0.0869669894919473, -0.0845605688796692, \n . -0.0291510560008917, -0.00743690739778823, -0.00840970659396099, \n . -0.0108311302665138, -0.000272238834570805, -0.000646820970885076, \n . 0.00021196657823074, 0.00478873077048926, 0.00103716917173292, \n . 0.00706617463515132, -2.45560641818511e-05, -0.0105255224861817, \n . -0.109078623860201, -0.0232550669844129, -0.0428254556939401, \n . -0.0966348130273273, -0.0580642095821093, 0.00052015892759865, \n . 0.000143883986232396, -0.00110620506220901, -0.000730604170897676, \n . 0.0305021354180395, 0.0349561245758429, 0.183547776228892, 0.162559745952628, \n . 0.0804519681394092, 0.0012336717406363, 1.97866025483213e-05, \n . 0.00344872607109372, 0.000168949049621027, 0.00324142396101664, \n . 0.000244062479823496, 5.36821921861494e-06, 7.17280813273152e-05, \n . 0.00286362819628358, 0.015845289532162, 0.000216004760242969, \n . -0.0173920466375123, -0.0585135705239887, -0.0253873719477732, \n . -0.11344763023165, -2.53849494931668e-07, -7.26382965772005e-06\n . ), `0.4` = c(0.239496888945522, 0.220094970169668, 0.229642284001254, \n . 0.0636022151799206, 0.0470111767473156, 0.0019374117772816, 1.3933523024111e-06, \n . 0.00136604622000391, 0.0267028207792325, 0.0697397950265332, \n . 0.101947894430748, 0.0737934182523136, 0.00351095313426625, 0.00116983177410017, \n . 0.0565129402299501, 0.115207810006018, 0.0842397147866683, 0.444495437551472, \n . 0.239496888945522, 0.161334300590302, 0.127214721839843, 0.0124536858748582, \n . 6.85585569648721e-10, 0.0055269523642878, 0.0248230816977199, \n . 0.130996648958593, 0.0824281741815196, 0.0824281741815196, 0.088905708195213, \n . 0.370093617045276, 0.859013475202185, 0.413505084361832, 0.176744225129688, \n . 0.0500335040332985, 0.00949165729998374, 5.35151077383764e-07, \n . 0.00210433877141564, 0.00116983177410017, 0.000706085006822052, \n . 0.028687349474427, 0.0027404638683136, 0.00116983177410017, 0.000396151955439209, \n . 2.38487265150482e-08, 0.000633200569696834, 0.00517950715148309, \n . 0.0387611690020778, 0.0754610648585085, 0.201896462531989, 0.229642284001254, \n . 0.109533584389477, 0.0255616215946005, 0.0937629042041782, 0.0160602090514002, \n . 0.000900933992191406, 0.00222187339853685, 7.9906268803027e-08, \n . 0.0055269523642878, 0.759311662072816, 0.370093617045276, 0.146954709651492, \n . 0.330193478733929, 0.282119727612314, 0.127214721839843, 0.0636022151799206, \n . 0.0174205391318721, 0.00576754223123636, 5.35047874618855e-05, \n . 2.38487265150482e-08, 4.65545626611569e-05, 0.00183142887770977, \n . 0.0182779411379553, 0.0737934182523136, 0.0967739161106289, 0.300677029770063, \n . 0.1247449349924, 0.030780491729335, 0.112915423248149, 0.35105585610611, \n . 0.325135126940379, 0.112915423248149, 0.0403180738168321, 0.028687349474427, \n . 0.00443351449700045, 0.00443351449700045, 3.01417824189816e-06, \n . 0.0070923413932816, 0.220094970169668, 0.249665308993116, 0.712848737158247, \n . 0.668551485869281, 0.249665308993116, 0.370093617045276, 0.712848737158247, \n . 0.96822577490468, 1.51206177273782, 1.396105301761, 0.460628082461926, \n . 0.626351543200116, 0.193232563394624, 0.168907491850863, 0.000100601351350506, \n . 0.112915423248149, 0.165851084674492, 0.0182779411379553, 0.0083071576438321, \n . 0.000320210013035686, 1.35513286286368e-05, 2.13587458834698e-05, \n . 0.00210433877141564, 0.030780491729335, 4.65545626611569e-05, \n . 0.00949165729998374, 0.0842397147866683, 0.0599790538517388, \n . 0.997083195844216, 0.997083195844216, 8.78146184394568e-07), \n .     `1.4` = c(0.0122782870055701, -0.0204120477234754, -0.049076852513908, \n .     -0.0238508306924702, -0.0241284864655597, -0.00101669557836406, \n .     -5.54609950451712e-07, -0.000417846217774795, 0.000446070621117079, \n .     0.00919937636194999, 0.0392876600767774, 0.0390647597544098, \n .     0.00224286708123197, 0.000861873559568302, 0.0308933639061045, \n .     0.0370969148219377, 0.0140233853205367, -0.0207397126207141, \n .     -0.0415263655742641, -0.0772291163495715, -0.0770170647490596, \n .     -0.00782664342491338, -4.07162413958679e-10, -0.00232728910155431, \n .     -0.00287401639896201, 0.0263355663066356, 0.03841235345033, \n .     0.0555063082120935, -0.0123418904116595, -0.108937056177277, \n .     -0.22811102833994, -0.0669340680056497, -0.0306456811952367, \n .     -0.0141509759457378, -0.00345002759539809, -1.60609541344415e-07, \n .     -0.000498202204132653, -7.4799043635965e-05, 4.4333665408343e-05, \n .     0.0065935004032023, 0.000803504006189548, 0.000565367998104873, \n .     0.00025535558895656, 1.0976376378551e-08, 0.000397206717370824, \n .     0.00298059918539246, 0.0281107625953769, 0.0169093154134946, \n .     0.0894340760077951, 0.0739448154484038, 0.0150794885628993, \n .     -0.000161968659072027, -0.0086957592617039, -0.00333972047223867, \n .     -0.000187349223676203, -0.000973980422982615, -1.75370288142003e-08, \n .     -0.000767251527210432, 0.139531111022501, 0.0829305777075054, \n .     0.04393357999741, 0.167190166022137, 0.17372368586911, 0.0768707678189437, \n .     0.0486906758309882, 0.0161460524889843, 0.00474761006306453, \n .     5.14400377137313e-05, 2.23786910126607e-08, 4.01989337666557e-05, \n .     0.00164469638933848, 0.0155720747318924, 0.0611688402577078, \n .     0.0768723602624781, 0.178223302625907, 0.0646004120351643, \n .     0.0143440169507874, 0.039611859629683, 0.10090749527914, \n .     0.0279060228101658, 0.0168458519943913, -0.00536472290206768, \n .     -0.0117491908507463, -0.00173917906688334, -0.00329702739083935, \n .     -2.10263045798331e-06, -0.0053559943733784, -0.153533849290957, \n .     -0.10081485177142, -0.271424285160374, -0.339283193563801, \n .     -0.136769152919519, 0.0381603528535384, 0.0406523377826605, \n .     -0.100947219291562, -0.122811169243539, 0.401296507938182, \n .     0.182818679648314, 0.400125892827098, 0.159061316883919, \n .     0.113740615937453, 0.000107733987161257, -0.00526852073333537, \n .     -0.039265244296686, -0.00274808845009158, -0.00407225174858293, \n .     -0.000149592511789882, -3.91077792893828e-06, -1.30540383090591e-05, \n .     -0.001395218692224, -0.0184575218654958, -3.38163032258111e-05, \n .     -0.00787873997499751, -0.0607048232695689, -0.0356209602920091, \n .     -0.48303695422673, -0.00631791796214729, 5.55559183557223e-07\n .     ), `2.4` = c(0.000629470939914562, 0.00189305412997055, 0.0104882141507473, \n .     0.00894406150967633, 0.0123839456784485, 0.00053353133865811, \n .     2.207569446778e-07, 0.000127810801092954, 7.4516097257608e-06, \n .     0.00121348973590482, 0.0151402855637877, 0.0206801025187894, \n .     0.00143278834883261, 0.000634985345011947, 0.0168881663129111, \n .     0.0119452065726639, 0.00233447295430974, 0.000967694251169901, \n .     0.00720025652692165, 0.0369688057053764, 0.0466269011697281, \n .     0.00491873232682106, 2.4180968602592e-10, 0.000979974894882487, \n .     0.000332753618671822, 0.00529450225028602, 0.0179005408313883, \n .     0.0373773928869416, 0.00171330122694657, 0.0320656224857815, \n .     0.0605748835756711, 0.0108346175880745, 0.00531365466244209, \n .     0.00400232052673303, 0.0012540160303753, 4.82021355482859e-08, \n .     0.000117949371828406, 4.7826508500836e-06, 2.78362218365904e-06, \n .     0.00151545013267202, 0.000235587374614775, 0.000273236699804104, \n .     0.000164599659085509, 5.05187722822808e-09, 0.000249167773806718, \n .     0.00171521560722594, 0.0203867683570452, 0.00378903939785587, \n .     0.039616612649173, 0.023810230574386, 0.00207599319045434, \n .     1.02629821134399e-06, 0.000806462105448943, 0.000694494872202031, \n .     3.89592710634664e-05, 0.000426954058218659, 3.84885171385255e-09, \n .     0.000106509857007352, 0.0256402369614947, 0.0185830838526978, \n .     0.0131343830760257, 0.084655068663649, 0.106975571284481, \n .     0.0464499301622749, 0.037275146882413, 0.0149648072888902, \n .     0.0039080426995122, 4.94549666583584e-05, 2.09992684986403e-08, \n .     3.47109753288319e-05, 0.00147700314548153, 0.013266784788583, \n .     0.0507040750664191, 0.0610635593744994, 0.10564008039848, \n .     0.0334539693765302, 0.00668445533923645, 0.0138962364766891, \n .     0.0290048504430361, 0.00239514603177372, 0.00251323265904324, \n .     0.000713830029349125, 0.00481199860483167, 0.000682245164356995, \n .     0.00245186738947159, 1.46675295488e-06, 0.0040447398308879, \n .     0.107102142588386, 0.0407090371452994, 0.103347510817664, \n .     0.172182827901693, 0.0749235096608416, 0.00393471398272834, \n .     0.00231832151906956, 0.0105247570833383, 0.00997484597712947, \n .     0.115348668241751, 0.0725589057656193, 0.255608422855807, \n .     0.130932913606167, 0.0765917933661213, 0.00011537232685099, \n .     0.000245823908896695, 0.0092960465872404, 0.000413175098471269, \n .     0.00199625852967284, 6.9885133732879e-05, 1.1286114025123e-06, \n .     7.97836713373072e-06, 0.000925057897318356, 0.0110680529866445, \n .     2.45634863371647e-05, 0.00653990569104618, 0.0437451097445168, \n .     0.0211549321078213, 0.23400725247514, 4.00328553753501e-05, \n .     3.51474517477477e-07), `0.5` = c(0.16754244363073, 0.150751848868013, \n .     0.158969871099868, 0.0319403964412043, 0.02189028434062, \n .     0.00040646899087368, 4.7871405053938e-08, -0.000262622385795751, \n .     -0.0107943482717969, -0.0358385832661851, -0.0576066772270386, \n .     -0.0384611295931058, -0.000854636211943091, -0.000216348688302086, \n .     0.0275540142679168, 0.0671200701095059, 0.0453833039441697, \n .     0.362939414669528, 0.16754244363073, 0.102248839685115, 0.0759751761771912, \n .     0.00416027830335513, 3.50814135989251e-12, -0.00150697883164671, \n .     -0.00985302581827598, -0.0788088939799794, -0.0441666642899418, \n .     -0.0441666642899418, 0.0485469619599961, 0.288661918486804, \n .     0.826989452846647, 0.331589727149753, 0.114599188131839, \n .     0.0236633457325485, 0.00296263099304393, 1.44742311899987e-08, \n .     -0.000450707278061802, -0.000216348688302086, -0.000115098916962063, \n .     -0.0118062786762004, -0.000627018133070152, -0.000216348688302086, \n .     -5.58891178733636e-05, 2.96368124402505e-10, 0.000100444606371009, \n .     0.00138950638352837, 0.0171987182979119, 0.0395506533136415, \n .     0.135335236764443, 0.158969871099868, 0.0630135757634221, \n .     0.010220814394601, 0.0518846406704241, 0.00571727382020795, \n .     0.000156086814147161, 0.000482390933556336, -1.34346409738529e-09, \n .     -0.00150697883164671, 0.708802250311732, 0.288661918486804, \n .     0.0909870084807213, 0.250299864619467, 0.205608857483854, \n .     0.0759751761771912, 0.0319403964412043, 0.00632888186660913, \n .     0.00158941928808412, 4.57605045246522e-06, 2.96368124402505e-10, \n .     -3.84549998493688e-06, -0.00037886769193182, -0.00672061617701478, \n .     -0.0384611295931058, -0.0539756517107033, -0.222651340544731, \n .     -0.0741359148659834, -0.0128927167657493, -0.0654548125484868, \n .     -0.270221734679117, -0.245516037055219, -0.0654548125484868, \n .     -0.0180665288773225, -0.0118062786762004, -0.001144024080806, \n .     -0.001144024080806, 1.2559176480517e-07, 0.00205819747233032, \n .     0.150751848868013, 0.176480916967964, 0.655008190625227, \n .     0.604530995582438, 0.176480916967964, 0.288661918486804, \n .     0.655008190625227, 0.960441239674447, 1.67672529978897, 1.51756646301421, \n .     0.379479233174608, 0.557214859861688, 0.12811512185627, 0.108283214875751, \n .     1.00752253377532e-05, -0.0654548125484868, -0.105839528195874, \n .     -0.00672061617701478, -0.00250793089267291, -4.28344934437838e-05, \n .     -8.22199761885278e-07, -1.45201026265004e-06, -0.000450707278061802, \n .     -0.0128927167657493, -3.84549998493688e-06, 0.00296263099304393, \n .     0.0453833039441697, 0.0296824341701485, 0.99635532511125, \n .     0.99635532511125, -2.68818109966865e-08), `1.5` = c(0.00858939845761661, \n .     -0.0139810279677172, -0.0339734511527528, -0.0119776486654516, \n .     -0.0112351884378232, -0.000213302732340781, -1.90547340676695e-08, \n .     8.03309353672043e-05, -0.000180319587880368, -0.00472746751864248, \n .     -0.0221998852029839, -0.0203605527839984, -0.000545958704913486, \n .     -0.000159394896106562, 0.0150626774396994, 0.0216126625752609, \n .     0.00755495860758593, -0.0169343901490655, -0.0290501843011322, \n .     -0.0489454970688679, -0.0459961314094334, -0.00261456850252656, \n .     -2.08345007222656e-12, 0.000634558646429797, 0.00114078332923999, \n .     -0.015843740045735, -0.0205821072257558, -0.0297413900662039, \n .     -0.00673928925928666, -0.0849676357065907, -0.219607049203427, \n .     -0.0536744291337305, -0.0198703532301795, -0.0066927040735367, \n .     -0.00107685711335161, -4.3440062647424e-09, 0.000106704948081132, \n .     1.38333351300354e-05, -7.22683079821399e-06, -0.00271355509093791, \n .     -0.000183841716616168, -0.000104559157569515, -3.60255664899915e-05, \n .     1.36403429256253e-10, 6.30089015765337e-05, 0.000799605343465235, \n .     0.0124730264711947, 0.00886251039452078, 0.0599494498295452, \n .     0.0511882984941575, 0.00867507897535032, -6.47631683299498e-05, \n .     -0.00481188534505647, -0.00118890709091224, -3.24582530019022e-05, \n .     -0.000211460889633756, 2.9485006545315e-10, 0.000209198801409196, \n .     0.130249501517284, 0.064683362694523, 0.0272014760553964, \n .     0.126736833451421, 0.126609822261408, 0.0459087599568296, \n .     0.024451970495564, 0.00586586086924801, 0.00130834638117932, \n .     4.39946066550458e-06, 2.78099993214334e-10, -3.3205123269933e-06, \n .     -0.000340238342062452, -0.00572569615816951, -0.0318811995423173, \n .     -0.0428755589363971, -0.131974355594484, -0.0383920248724982, \n .     -0.00600813494000682, -0.0229622027901347, -0.0776725354161655, \n .     -0.0210723959444124, -0.00976520348410875, 0.00240393233241653, \n .     0.00483537949462465, 0.000448777766418576, 0.000850764947932187, \n .     -8.76103032927908e-08, -0.00155430956715441, -0.105161474733348, \n .     -0.0712629942716638, -0.249400918662461, -0.306793434948132, \n .     -0.0966780111242202, 0.0297639304151743, 0.0373538070949754, \n .     -0.100135603648458, -0.13618530557416, 0.436209304128804, \n .     0.15061151285467, 0.355959996776843, 0.105459243707207, 0.0729168340651822, \n .     1.07895588141999e-05, 0.00305405609869985, 0.0250575083003731, \n .     0.00101044464221417, 0.00122941280289719, 2.00109903021325e-05, \n .     2.37278629282472e-07, 8.87439632326454e-07, 0.000298827939500536, \n .     0.00773111760858155, 2.79329427905845e-06, -0.00245919110839597, \n .     -0.0327041164882476, -0.0176281008293095, -0.482684337250145, \n .     -0.00631330588203492, -1.70067777270537e-08), `0.6` = c(0.117205991866313, \n .     0.103255971363656, 0.110046893268884, 0.0160401476888084, \n .     0.0101929920003663, 8.5277194285298e-05, 1.64471786343815e-09, \n .     5.04891536692331e-05, 0.0043635073453912, 0.0184170895546599, \n .     0.0325512290339104, 0.0200459407439268, 0.000208035546711187, \n .     4.00115264145878e-05, 0.0134345107366082, 0.0391041528457981, \n .     0.024449801166882, 0.296347290865963, 0.117205991866313, \n .     0.0648022471272356, 0.0453738947165421, 0.00138978257001881, \n .     1.795115933857e-14, 0.000410892848236792, 0.00391096153804828, \n .     0.0474122187072954, 0.0236653820598366, 0.0236653820598366, \n .     0.0265090685782559, 0.225147636562152, 0.796159286044524, \n .     0.265901802201387, 0.0743049675928029, 0.0111915793642088, \n .     0.000924726011858801, 3.91484530995894e-10, 9.65324848152768e-05, \n .     4.00115264145878e-05, 1.87622744539858e-05, 0.00485887398919029, \n .     0.000143461748846451, 4.00115264145878e-05, 7.88483674957414e-06, \n .     3.68296668194992e-12, 1.59335279086331e-05, 0.000372762877509156, \n .     0.00763124329596651, 0.0207292884147458, 0.0907179159079412, \n .     0.110046893268884, 0.0362510800009391, 0.00408679263568121, \n .     0.0287108847613859, 0.00203529230725583, 2.70420405509957e-05, \n .     0.000104731895584416, 2.25876618693389e-11, 0.000410892848236792, \n .     0.661652724620996, 0.225147636562152, 0.0563346063008386, \n .     0.189737309376141, 0.149847735334233, 0.0453738947165421, \n .     0.0160401476888084, 0.0022992827821391, 0.000438012167410221, \n .     3.9137129099754e-07, 3.68296668194992e-12, 3.17645989755756e-07, \n .     7.83763594299356e-05, 0.00247110336212656, 0.0200459407439268, \n .     0.0301049197416447, 0.164873317673374, 0.0440589742048539, \n .     0.00540024334450174, 0.0379428457381068, 0.208000478051904, \n .     0.185394069901137, 0.0379428457381068, 0.0080956115899282, \n .     0.00485887398919029, 0.000295203973811179, 0.000295203973811179, \n .     5.23303206413704e-09, 0.000597288906470259, 0.103255971363656, \n .     0.124749065777145, 0.601860826037896, 0.546641107445464, \n .     0.124749065777145, 0.225147636562152, 0.601860826037896, \n .     0.952719292107464, 1.85932068493599, 1.64959474529644, 0.312626376666238, \n .     0.495709483630154, 0.0849416069419254, 0.0694182033925467, \n .     1.00903381757598e-06, 0.0379428457381068, 0.0675425533134788, \n .     0.00247110336212656, 0.000757144336497952, 5.72997018797495e-06, \n .     4.98853261528655e-08, 9.87105616754753e-08, 9.65324848152768e-05, \n .     0.00540024334450174, 3.17645989755756e-07, 0.000924726011858801, \n .     0.024449801166882, 0.0146892430221231, 0.995627985723918, \n .     0.995627985723918, 8.22905998230568e-10), degree = 6, raw = TRUE, \n .     coefs = NULL)",
      "6. do.call(expand.grid, c(rep.int(list(0:degree), nd), KEEP.OUT.ATTRS = FALSE))",
      "7. (function (..., KEEP.OUT.ATTRS = TRUE, stringsAsFactors = TRUE) \n . {\n .     nargs <- length(args <- list(...))\n .     if (!nargs) \n .         return(as.data.frame(list()))\n .     if (nargs == 1L && is.list(a1 <- args[[1L]])) \n .         nargs <- length(args <- a1)\n .     if (nargs == 0L) \n .         return(as.data.frame(list()))\n .     cargs <- vector(\"list\", nargs)\n .     iArgs <- seq_len(nargs)\n .     nmc <- paste0(\"Var\", iArgs)\n .     nm <- names(args)\n .     if (is.null(nm)) \n .         nm <- nmc\n .     else if (any(ng0 <- nzchar(nm))) \n .         nmc[ng0] <- nm[ng0]\n .     names(cargs) <- nmc\n .     rep.fac <- 1L\n .     d <- lengths(args)\n .     if (KEEP.OUT.ATTRS) {\n .         dn <- vector(\"list\", nargs)\n .         names(dn) <- nmc\n .     }\n .     orep <- prod(d)\n .     if (orep == 0L) {\n .         for (i in iArgs) cargs[[i]] <- args[[i]][FALSE]\n .     }\n .     else {\n .         for (i in iArgs) {\n .             x <- args[[i]]\n .             if (KEEP.OUT.ATTRS) \n .                 dn[[i]] <- paste0(nmc[i], \"=\", if (is.numeric(x)) \n .                   format(x)\n .                 else x)\n .             nx <- length(x)\n .             orep <- orep/nx\n .             x <- x[rep.int(rep.int(seq_len(nx), rep.int(rep.fac, \n .                 nx)), orep)]\n .             if (stringsAsFactors && is.character(x) && !is.factor(x)) \n .                 x <- factor(x, levels = unique(x))\n .             cargs[[i]] <- x\n .             rep.fac <- rep.fac * nx\n .         }\n .     }\n .     if (KEEP.OUT.ATTRS) \n .         attr(cargs, \"out.attrs\") <- list(dim = d, dimnames = dn)\n .     rn <- .set_row_names(as.integer(prod(d)))\n .     structure(cargs, class = \"data.frame\", row.names = rn)\n . })(0:6, 0:6, 0:6, 0:6, 0:6, 0:6, 0:6, 0:6, 0:6, 0:6, 0:6, 0:6, \n .     0:6, 0:6, 0:6, 0:6, 0:6, 0:6, 0:6, 0:6, 0:6, 0:6, 0:6, 0:6, \n .     0:6, 0:6, 0:6, 0:6, KEEP.OUT.ATTRS = FALSE)"
     ]
    }
   ],
   "source": [
    "X_plot <- X\n",
    "X <- cbind(1, as.matrix(poly(X_plot, 6, raw = TRUE)))"
   ]
  },
  {
   "cell_type": "markdown",
   "metadata": {},
   "source": [
    "<a id=\"section5\"></a>\n",
    "### 2.3 Cost function and gradient\n",
    "\n",
    "Now you will implement code to compute the cost function and gradient for regularized logistic regression. Complete the code for the function `costFunctionReg` below to return the cost and gradient.\n",
    "\n",
    "Recall that the regularized cost function in logistic regression is\n",
    "\n",
    "$$ J(\\theta) = \\frac{1}{m} \\sum_{i=1}^m \\left[ -y^{(i)}\\log \\left( h_\\theta \\left(x^{(i)} \\right) \\right) - \\left( 1 - y^{(i)} \\right) \\log \\left( 1 - h_\\theta \\left( x^{(i)} \\right) \\right) \\right] + \\frac{\\lambda}{2m} \\sum_{j=1}^n \\theta_j^2 $$\n",
    "\n",
    "Note that you should not regularize the parameters $\\theta_0$. The gradient of the cost function is a vector where the $j^{th}$ element is defined as follows:\n",
    "\n",
    "$$ \\frac{\\partial J(\\theta)}{\\partial \\theta_0} = \\frac{1}{m} \\sum_{i=1}^m \\left( h_\\theta \\left(x^{(i)}\\right) - y^{(i)} \\right) x_j^{(i)} \\qquad \\text{for } j =0 $$\n",
    "\n",
    "$$ \\frac{\\partial J(\\theta)}{\\partial \\theta_j} = \\left( \\frac{1}{m} \\sum_{i=1}^m \\left( h_\\theta \\left(x^{(i)}\\right) - y^{(i)} \\right) x_j^{(i)} \\right) + \\frac{\\lambda}{m}\\theta_j \\qquad \\text{for } j \\ge 1 $$\n",
    "<a id=\"costFunctionReg\"></a>"
   ]
  },
  {
   "cell_type": "code",
   "execution_count": 17,
   "metadata": {},
   "outputs": [],
   "source": [
    "costFunctionReg <- function(theta, X, y, lambda_){\n",
    "    sig_x_dot_theta <- sigmoid(X %*% theta)\n",
    "    m <- length(y)\n",
    "    theta1 <- c(0,theta[-1])\n",
    "    reg_ <- lambda_ * crossprod(theta1) / (2 * m)\n",
    "    cost_ <- (-1) * (crossprod(y, log(sig_x_dot_theta)) + crossprod(1 - y, log(1 - sig_x_dot_theta))) / m + reg_\n",
    "    return(cost_)\n",
    "}\n",
    "\n",
    "gradFunctionReg <- function(theta, X, y, lambda_){\n",
    "    sig_x_dot_theta <- sigmoid(X %*% theta)\n",
    "    m <- length(y)\n",
    "    return((1 / length(y)) * (t(X) %*% (sig_x_dot_theta - y)) + (lambda_ / m) * c(0, theta[2:length(theta)]))\n",
    "} \n"
   ]
  },
  {
   "cell_type": "markdown",
   "metadata": {},
   "source": [
    "Once you are done with the `costFunctionReg`, we call it below using the initial value of $\\theta$ (initialized to all zeros), and also another test case where $\\theta$ is all ones."
   ]
  },
  {
   "cell_type": "code",
   "execution_count": 18,
   "metadata": {},
   "outputs": [
    {
     "name": "stdout",
     "output_type": "stream",
     "text": [
      "          [,1]\n",
      "[1,] 0.6931472\n",
      "[1] 0.693\n",
      "                    1.0         2.0         3.0         4.0 \n",
      "0.008474576 0.018788093 0.050344640 0.018355987 0.039348623 \n",
      "[1] \"[0.0085, 0.0188, 0.0001, 0.0503, 0.0115]\"\n",
      "         [,1]\n",
      "[1,] 3.164509\n",
      "[1] 3.16\n",
      "                1.0       2.0       3.0       4.0 \n",
      "0.3460451 0.1613519 0.2268628 0.1433921 0.1735300 \n",
      "[1] \"[0.3460, 0.1614, 0.1948, 0.2269, 0.0922]\"\n"
     ]
    }
   ],
   "source": [
    "initial_theta <- rep(0, ncol(X))\n",
    "lambda_ <- 1\n",
    "cost <- costFunctionReg(initial_theta, X, y, lambda_)\n",
    "grad <- gradFunctionReg(initial_theta, X, y, lambda_)\n",
    "print(cost)\n",
    "print(0.693)\n",
    "print(grad[1:5,])\n",
    "print('[0.0085, 0.0188, 0.0001, 0.0503, 0.0115]')\n",
    "\n",
    "test_theta <- rep(1, ncol(X))\n",
    "cost <- costFunctionReg(test_theta, X, y, 10)\n",
    "grad <- gradFunctionReg(test_theta, X, y, 10)\n",
    "print(cost)\n",
    "print(3.16)\n",
    "print(grad[1:5,])\n",
    "print('[0.3460, 0.1614, 0.1948, 0.2269, 0.0922]')"
   ]
  },
  {
   "cell_type": "markdown",
   "metadata": {},
   "source": [
    "*You should now submit your solutions.*"
   ]
  },
  {
   "cell_type": "markdown",
   "metadata": {},
   "source": [
    "#### 2.3.1 Learning parameters using `scipy.optimize.minimize`\n",
    "\n",
    "Similar to the previous parts, you will use `optimize.minimize` to learn the optimal parameters $\\theta$. If you have completed the cost and gradient for regularized logistic regression (`costFunctionReg`) correctly, you should be able to step through the next part of to learn the parameters $\\theta$ using `optimize.minimize`."
   ]
  },
  {
   "cell_type": "markdown",
   "metadata": {},
   "source": [
    "### 2.4 Plotting the decision boundary\n",
    "\n",
    "To help you visualize the model learned by this classifier, we have provided the function `plotDecisionBoundary` which plots the (non-linear) decision boundary that separates the positive and negative examples. In `plotDecisionBoundary`, we plot the non-linear decision boundary by computing the classifier’s predictions on an evenly spaced grid and then and draw a contour plot where the predictions change from y = 0 to y = 1. "
   ]
  },
  {
   "cell_type": "markdown",
   "metadata": {},
   "source": [
    "### 2.5 Optional (ungraded) exercises\n",
    "\n",
    "In this part of the exercise, you will get to try out different regularization parameters for the dataset to understand how regularization prevents overfitting.\n",
    "\n",
    "Notice the changes in the decision boundary as you vary $\\lambda$. With a small\n",
    "$\\lambda$, you should find that the classifier gets almost every training example correct, but draws a very complicated boundary, thus overfitting the data. See the following figures for the decision boundaries you should get for different values of $\\lambda$. \n",
    "\n",
    "<table>\n",
    "    <tr>\n",
    "        <td style=\"text-align:center\">\n",
    "            No regularization (overfitting)<img src=\"Figures/decision_boundary3.png\">\n",
    "        </td>        \n",
    "        <td style=\"text-align:center\">\n",
    "            Decision boundary with regularization\n",
    "            <img src=\"Figures/decision_boundary2.png\">\n",
    "        </td>\n",
    "        <td style=\"text-align:center\">\n",
    "            Decision boundary with too much regularization\n",
    "            <img src=\"Figures/decision_boundary4.png\">\n",
    "        </td>        \n",
    "    <tr>\n",
    "</table>\n",
    "\n",
    "This is not a good decision boundary: for example, it predicts that a point at $x = (−0.25, 1.5)$ is accepted $(y = 1)$, which seems to be an incorrect decision given the training set.\n",
    "With a larger $\\lambda$, you should see a plot that shows an simpler decision boundary which still separates the positives and negatives fairly well. However, if $\\lambda$ is set to too high a value, you will not get a good fit and the decision boundary will not follow the data so well, thus underfitting the data."
   ]
  },
  {
   "cell_type": "code",
   "execution_count": 19,
   "metadata": {},
   "outputs": [
    {
     "name": "stdout",
     "output_type": "stream",
     "text": [
      "[1] 0.6591606\n",
      " [1]  0.219487575 -0.081800800 -0.353239591  0.002063916 -0.266396596\n",
      " [6]  0.030971761 -0.188148132  0.245705344 -0.058395322 -0.010944915\n",
      "[11]  0.085390055  0.060550139  0.042180641 -0.219045483  0.003236638\n",
      "[16]  0.018794545  0.021685740  0.027274395 -0.084755837  0.097702858\n",
      "[21] -0.009903719  0.132390175 -0.241167187 -0.031185384  0.007824881\n",
      "[26] -0.134323405  0.098699212 -0.138345528\n",
      "[1] 77.11864\n",
      "[1] \"83.1%\"\n"
     ]
    }
   ],
   "source": [
    "lambda_ = 10\n",
    "\n",
    "costFunction_X_y <- function(theta)costFunctionReg(theta, X, y, lambda_)\n",
    "gradFunction_X_y <- function(theta)gradFunctionReg(theta, X, y, lambda_)\n",
    "\n",
    "initial_theta <- rep(0, ncol(X))\n",
    "\n",
    "res <- optim(par = initial_theta,\n",
    "             fn = costFunction_X_y,\n",
    "             gr = gradFunction_X_y)\n",
    "theta <- res$par\n",
    "cost <- res$value\n",
    "print(cost)\n",
    "print(theta)\n",
    "\n",
    "# Compute accuracy on our training set\n",
    "p <- predict(theta, X)\n",
    "\n",
    "print(100 * mean(p == y))\n",
    "print('83.1%')"
   ]
  },
  {
   "cell_type": "code",
   "execution_count": 20,
   "metadata": {},
   "outputs": [
    {
     "data": {
      "image/png": "[encoded data removed]",
      "text/plain": [
       "plot without title"
      ]
     },
     "metadata": {},
     "output_type": "display_data"
    }
   ],
   "source": [
    "plotDecisionBoundary(theta, X_plot, y, 6)"
   ]
  },
  {
   "cell_type": "markdown",
   "metadata": {},
   "source": [
    "*You do not need to submit any solutions for these optional (ungraded) exercises.*"
   ]
  }
 ],
 "metadata": {
  "kernelspec": {
   "display_name": "R",
   "language": "R",
   "name": "ir"
  },
  "language_info": {
   "codemirror_mode": "r",
   "file_extension": ".r",
   "mimetype": "text/x-r-source",
   "name": "R",
   "pygments_lexer": "r",
   "version": "3.6.0"
  }
 },
 "nbformat": 4,
 "nbformat_minor": 2
}
